{
 "cells": [
  {
   "cell_type": "code",
   "execution_count": 2,
   "metadata": {
    "collapsed": true,
    "ExecuteTime": {
     "end_time": "2023-07-16T08:30:42.146084500Z",
     "start_time": "2023-07-16T08:30:40.117173100Z"
    }
   },
   "outputs": [],
   "source": [
    "# python\n",
    "import os\n",
    "import math\n",
    "import csv\n",
    "\n",
    "# random\n",
    "import random\n",
    "#data analysis libraries\n",
    "import numpy as np\n",
    "import pandas as pd\n",
    "\n",
    "# machine learning\n",
    "import sklearn\n",
    "\n",
    "# deep learning\n",
    "import torch\n",
    "import torch.nn as nn\n",
    "from torch.utils.data import Dataset, DataLoader, random_split\n",
    "\n",
    "# For plotting learning curve\n",
    "from torch.utils.tensorboard import SummaryWriter\n",
    "\n",
    "# graph deep learning\n",
    "import torch_geometric\n",
    "import torch_geometric_temporal\n",
    "import networkx as nx\n",
    "\n",
    "#visualization libraries\n",
    "import matplotlib.pyplot as plt\n",
    "import seaborn as sns\n",
    "import torch\n",
    "import torch_geometric\n",
    "%matplotlib inline\n",
    "\n",
    "# For Progress Bar\n",
    "from tqdm.auto import tqdm\n",
    "\n",
    "#ignore warnings\n",
    "import warnings\n",
    "\n",
    "warnings.filterwarnings('ignore')\n",
    "\n",
    "# auto load change\n",
    "%load_ext autoreload\n",
    "%autoreload 2"
   ]
  },
  {
   "cell_type": "markdown",
   "source": [
    "## test data value"
   ],
   "metadata": {
    "collapsed": false
   }
  },
  {
   "cell_type": "code",
   "execution_count": 21,
   "outputs": [],
   "source": [
    "from Data.generate_data import get_singel_step\n",
    "\n",
    "x, y, edge_index = get_singel_step(168, 50, False)"
   ],
   "metadata": {
    "collapsed": false,
    "ExecuteTime": {
     "end_time": "2023-07-16T06:38:06.187451Z",
     "start_time": "2023-07-16T06:38:04.698063700Z"
    }
   }
  },
  {
   "cell_type": "code",
   "execution_count": 22,
   "outputs": [
    {
     "name": "stdout",
     "output_type": "stream",
     "text": [
      "(4202, 6, 50, 168)\n",
      "(4202, 1, 50, 1)\n"
     ]
    },
    {
     "data": {
      "text/plain": "torch.int64"
     },
     "execution_count": 22,
     "metadata": {},
     "output_type": "execute_result"
    }
   ],
   "source": [
    "print(x.shape)\n",
    "print(y.shape)\n",
    "edge_index.dtype"
   ],
   "metadata": {
    "collapsed": false,
    "ExecuteTime": {
     "end_time": "2023-07-16T06:38:07.080971100Z",
     "start_time": "2023-07-16T06:38:06.832473700Z"
    }
   }
  },
  {
   "cell_type": "code",
   "execution_count": 23,
   "outputs": [],
   "source": [
    "from Data.generate_data import get_and_normalize_data\n",
    "\n",
    "metrics = get_and_normalize_data('./DatasetUpdate/MMS.csv')"
   ],
   "metadata": {
    "collapsed": false,
    "ExecuteTime": {
     "end_time": "2023-07-16T06:38:10.565962300Z",
     "start_time": "2023-07-16T06:38:09.603038500Z"
    }
   }
  },
  {
   "cell_type": "code",
   "execution_count": 24,
   "outputs": [
    {
     "data": {
      "text/plain": "array([[-0.06813119,  0.0396352 ,  0.02344906,  0.00726292,  0.09785769,\n        -0.16811373,  0.08230304, -0.12215391, -0.10462679, -0.15372964,\n        -0.03819059,  0.07734846,  0.06031949, -0.1175509 , -0.14420766,\n         0.16872437, -0.62381932,  0.18669702],\n       [ 3.16780158,  3.16801491,  3.16790825,  3.16780158,  3.16961488,\n         3.16940155,  3.16982821,  3.16982821,  3.16801491,  3.16801491,\n         3.16801491,  3.16801491,  3.16801491,  3.16801491,  3.16780158,\n         3.16822824,  3.16822824,  3.16844157],\n       [-0.65291128, -0.64508623, -0.63861032, -0.6321344 , -0.65397344,\n        -0.65081098, -0.66176517, -0.66224688, -0.65652433, -0.66749091,\n        -0.66396843, -0.66044595, -0.66010813, -0.67096585, -0.65981648,\n        -0.61525424, -0.59512672, -0.5902825 ],\n       [-0.46008906, -0.45656186, -0.45215392, -0.44774599, -0.46281955,\n        -0.45961735, -0.46361357, -0.47299364, -0.45893136, -0.46850002,\n        -0.46714048, -0.46578095, -0.46433562, -0.44960028, -0.45004414,\n        -0.43033685, -0.43868718, -0.44216335],\n       [ 0.09896152,  0.20392335, -0.01432969, -0.23258274, -0.13562521,\n         0.12220504, -0.23258274, -0.04460139, -0.56374387, -0.05529411,\n        -0.11813285, -0.18097158, -0.06654961,  0.28598649,  0.0284839 ,\n        -0.12445554, -0.02317369, -0.23538203],\n       [-0.62819273, -0.55391467, -0.50691963, -0.4599246 , -0.55884649,\n        -0.54424826, -0.57863723, -0.54405102, -0.56358494, -0.56871013,\n        -0.52852611, -0.48834209, -0.59336924, -0.57857377, -0.57364195,\n        -0.37174626, -0.28283084, -0.31241782]])"
     },
     "execution_count": 24,
     "metadata": {},
     "output_type": "execute_result"
    }
   ],
   "source": [
    "x[1, :, 0, 150:168]"
   ],
   "metadata": {
    "collapsed": false,
    "ExecuteTime": {
     "end_time": "2023-07-16T06:38:11.320977Z",
     "start_time": "2023-07-16T06:38:11.080944200Z"
    }
   }
  },
  {
   "cell_type": "code",
   "execution_count": 25,
   "outputs": [
    {
     "data": {
      "text/plain": "pod                               metric              \nadservice-76469b5944-9tlwk        CpuUsage(m)             0.186697\n                                  MemoryUsage(Mi)         3.168442\n                                  NetworkReceiveBytes    -0.590282\n                                  NetworkTransmitBytes   -0.442163\n                                  PodLatency(s)           0.004739\n                                                            ...   \nshippingservice-7499794f94-s67q7  NetworkReceiveBytes    -0.551914\n                                  NetworkTransmitBytes   -0.450508\n                                  PodLatency(s)           0.041562\n                                  PodSuccessRate(%)       0.372415\n                                  PodWorkload(Ops)       -0.411041\nName: 168, Length: 350, dtype: float64"
     },
     "execution_count": 25,
     "metadata": {},
     "output_type": "execute_result"
    }
   ],
   "source": [
    "metrics.iloc[168]"
   ],
   "metadata": {
    "collapsed": false,
    "ExecuteTime": {
     "end_time": "2023-07-16T06:38:13.994316800Z",
     "start_time": "2023-07-16T06:38:13.738070700Z"
    }
   }
  },
  {
   "cell_type": "code",
   "execution_count": 26,
   "outputs": [
    {
     "data": {
      "text/plain": "0.0047389380530973"
     },
     "execution_count": 26,
     "metadata": {},
     "output_type": "execute_result"
    }
   ],
   "source": [
    "y[1, 0, 0, 0]"
   ],
   "metadata": {
    "collapsed": false
   }
  },
  {
   "cell_type": "markdown",
   "source": [
    "## test data loader"
   ],
   "metadata": {
    "collapsed": false
   }
  },
  {
   "cell_type": "code",
   "execution_count": 6,
   "outputs": [
    {
     "name": "stdout",
     "output_type": "stream",
     "text": [
      "torch.Size([8, 168, 50, 6])\n",
      "torch.Size([8, 168, 50, 6])\n",
      "torch.Size([8, 168, 50, 6])\n",
      "torch.Size([8, 168, 50, 6])\n",
      "torch.Size([8, 168, 50, 6])\n",
      "torch.Size([8, 168, 50, 6])\n",
      "torch.Size([8, 168, 50, 6])\n",
      "torch.Size([8, 168, 50, 6])\n",
      "torch.Size([8, 168, 50, 6])\n",
      "torch.Size([8, 168, 50, 6])\n",
      "torch.Size([8, 168, 50, 6])\n",
      "torch.Size([8, 168, 50, 6])\n",
      "torch.Size([8, 168, 50, 6])\n",
      "torch.Size([8, 168, 50, 6])\n",
      "torch.Size([8, 168, 50, 6])\n",
      "torch.Size([8, 168, 50, 6])\n",
      "torch.Size([8, 168, 50, 6])\n",
      "torch.Size([8, 168, 50, 6])\n",
      "torch.Size([8, 168, 50, 6])\n",
      "torch.Size([8, 168, 50, 6])\n",
      "torch.Size([8, 168, 50, 6])\n",
      "torch.Size([8, 168, 50, 6])\n",
      "torch.Size([8, 168, 50, 6])\n",
      "torch.Size([8, 168, 50, 6])\n",
      "torch.Size([8, 168, 50, 6])\n",
      "torch.Size([8, 168, 50, 6])\n",
      "torch.Size([8, 168, 50, 6])\n",
      "torch.Size([8, 168, 50, 6])\n",
      "torch.Size([8, 168, 50, 6])\n",
      "torch.Size([8, 168, 50, 6])\n",
      "torch.Size([8, 168, 50, 6])\n",
      "torch.Size([8, 168, 50, 6])\n",
      "torch.Size([8, 168, 50, 6])\n",
      "torch.Size([8, 168, 50, 6])\n",
      "torch.Size([8, 168, 50, 6])\n",
      "torch.Size([8, 168, 50, 6])\n",
      "torch.Size([8, 168, 50, 6])\n",
      "torch.Size([8, 168, 50, 6])\n",
      "torch.Size([8, 168, 50, 6])\n",
      "torch.Size([8, 168, 50, 6])\n",
      "torch.Size([8, 168, 50, 6])\n",
      "torch.Size([8, 168, 50, 6])\n",
      "torch.Size([8, 168, 50, 6])\n",
      "torch.Size([8, 168, 50, 6])\n",
      "torch.Size([8, 168, 50, 6])\n",
      "torch.Size([8, 168, 50, 6])\n",
      "torch.Size([8, 168, 50, 6])\n",
      "torch.Size([8, 168, 50, 6])\n",
      "torch.Size([8, 168, 50, 6])\n",
      "torch.Size([8, 168, 50, 6])\n",
      "torch.Size([8, 168, 50, 6])\n",
      "torch.Size([8, 168, 50, 6])\n",
      "torch.Size([8, 168, 50, 6])\n",
      "torch.Size([8, 168, 50, 6])\n",
      "torch.Size([8, 168, 50, 6])\n",
      "torch.Size([8, 168, 50, 6])\n",
      "torch.Size([8, 168, 50, 6])\n",
      "torch.Size([8, 168, 50, 6])\n",
      "torch.Size([8, 168, 50, 6])\n",
      "torch.Size([8, 168, 50, 6])\n",
      "torch.Size([8, 168, 50, 6])\n",
      "torch.Size([8, 168, 50, 6])\n",
      "torch.Size([8, 168, 50, 6])\n",
      "torch.Size([8, 168, 50, 6])\n",
      "torch.Size([8, 168, 50, 6])\n",
      "torch.Size([8, 168, 50, 6])\n",
      "torch.Size([8, 168, 50, 6])\n",
      "torch.Size([8, 168, 50, 6])\n",
      "torch.Size([8, 168, 50, 6])\n",
      "torch.Size([8, 168, 50, 6])\n",
      "torch.Size([8, 168, 50, 6])\n",
      "torch.Size([8, 168, 50, 6])\n",
      "torch.Size([8, 168, 50, 6])\n",
      "torch.Size([8, 168, 50, 6])\n",
      "torch.Size([8, 168, 50, 6])\n",
      "torch.Size([8, 168, 50, 6])\n",
      "torch.Size([8, 168, 50, 6])\n",
      "torch.Size([8, 168, 50, 6])\n",
      "torch.Size([8, 168, 50, 6])\n",
      "torch.Size([8, 168, 50, 6])\n",
      "torch.Size([8, 168, 50, 6])\n",
      "torch.Size([8, 168, 50, 6])\n",
      "torch.Size([8, 168, 50, 6])\n",
      "torch.Size([8, 168, 50, 6])\n",
      "torch.Size([8, 168, 50, 6])\n",
      "torch.Size([8, 168, 50, 6])\n",
      "torch.Size([8, 168, 50, 6])\n",
      "torch.Size([8, 168, 50, 6])\n",
      "torch.Size([8, 168, 50, 6])\n",
      "torch.Size([8, 168, 50, 6])\n",
      "torch.Size([8, 168, 50, 6])\n",
      "torch.Size([8, 168, 50, 6])\n",
      "torch.Size([8, 168, 50, 6])\n",
      "torch.Size([8, 168, 50, 6])\n",
      "torch.Size([8, 168, 50, 6])\n",
      "torch.Size([8, 168, 50, 6])\n",
      "torch.Size([8, 168, 50, 6])\n",
      "torch.Size([8, 168, 50, 6])\n",
      "torch.Size([8, 168, 50, 6])\n",
      "torch.Size([8, 168, 50, 6])\n",
      "torch.Size([8, 168, 50, 6])\n",
      "torch.Size([8, 168, 50, 6])\n",
      "torch.Size([8, 168, 50, 6])\n",
      "torch.Size([8, 168, 50, 6])\n",
      "torch.Size([8, 168, 50, 6])\n",
      "torch.Size([8, 168, 50, 6])\n",
      "torch.Size([8, 168, 50, 6])\n",
      "torch.Size([8, 168, 50, 6])\n",
      "torch.Size([8, 168, 50, 6])\n",
      "torch.Size([8, 168, 50, 6])\n",
      "torch.Size([8, 168, 50, 6])\n",
      "torch.Size([8, 168, 50, 6])\n",
      "torch.Size([8, 168, 50, 6])\n",
      "torch.Size([8, 168, 50, 6])\n",
      "torch.Size([8, 168, 50, 6])\n",
      "torch.Size([8, 168, 50, 6])\n",
      "torch.Size([8, 168, 50, 6])\n",
      "torch.Size([8, 168, 50, 6])\n",
      "torch.Size([8, 168, 50, 6])\n",
      "torch.Size([8, 168, 50, 6])\n",
      "torch.Size([8, 168, 50, 6])\n",
      "torch.Size([8, 168, 50, 6])\n",
      "torch.Size([8, 168, 50, 6])\n",
      "torch.Size([8, 168, 50, 6])\n",
      "torch.Size([8, 168, 50, 6])\n",
      "torch.Size([8, 168, 50, 6])\n",
      "torch.Size([8, 168, 50, 6])\n",
      "torch.Size([8, 168, 50, 6])\n",
      "torch.Size([8, 168, 50, 6])\n",
      "torch.Size([8, 168, 50, 6])\n",
      "torch.Size([8, 168, 50, 6])\n",
      "torch.Size([8, 168, 50, 6])\n",
      "torch.Size([8, 168, 50, 6])\n",
      "torch.Size([8, 168, 50, 6])\n",
      "torch.Size([8, 168, 50, 6])\n",
      "torch.Size([8, 168, 50, 6])\n",
      "torch.Size([8, 168, 50, 6])\n",
      "torch.Size([8, 168, 50, 6])\n",
      "torch.Size([8, 168, 50, 6])\n",
      "torch.Size([8, 168, 50, 6])\n",
      "torch.Size([8, 168, 50, 6])\n",
      "torch.Size([8, 168, 50, 6])\n",
      "torch.Size([8, 168, 50, 6])\n",
      "torch.Size([8, 168, 50, 6])\n",
      "torch.Size([8, 168, 50, 6])\n",
      "torch.Size([8, 168, 50, 6])\n",
      "torch.Size([8, 168, 50, 6])\n",
      "torch.Size([8, 168, 50, 6])\n",
      "torch.Size([8, 168, 50, 6])\n",
      "torch.Size([8, 168, 50, 6])\n",
      "torch.Size([8, 168, 50, 6])\n",
      "torch.Size([8, 168, 50, 6])\n",
      "torch.Size([8, 168, 50, 6])\n",
      "torch.Size([8, 168, 50, 6])\n",
      "torch.Size([8, 168, 50, 6])\n",
      "torch.Size([8, 168, 50, 6])\n",
      "torch.Size([8, 168, 50, 6])\n",
      "torch.Size([8, 168, 50, 6])\n",
      "torch.Size([8, 168, 50, 6])\n",
      "torch.Size([8, 168, 50, 6])\n",
      "torch.Size([8, 168, 50, 6])\n",
      "torch.Size([8, 168, 50, 6])\n",
      "torch.Size([8, 168, 50, 6])\n",
      "torch.Size([8, 168, 50, 6])\n",
      "torch.Size([8, 168, 50, 6])\n",
      "torch.Size([8, 168, 50, 6])\n",
      "torch.Size([8, 168, 50, 6])\n",
      "torch.Size([8, 168, 50, 6])\n",
      "torch.Size([8, 168, 50, 6])\n",
      "torch.Size([8, 168, 50, 6])\n",
      "torch.Size([8, 168, 50, 6])\n",
      "torch.Size([8, 168, 50, 6])\n",
      "torch.Size([8, 168, 50, 6])\n",
      "torch.Size([8, 168, 50, 6])\n",
      "torch.Size([8, 168, 50, 6])\n",
      "torch.Size([8, 168, 50, 6])\n",
      "torch.Size([8, 168, 50, 6])\n",
      "torch.Size([8, 168, 50, 6])\n",
      "torch.Size([8, 168, 50, 6])\n",
      "torch.Size([8, 168, 50, 6])\n",
      "torch.Size([8, 168, 50, 6])\n",
      "torch.Size([8, 168, 50, 6])\n",
      "torch.Size([8, 168, 50, 6])\n",
      "torch.Size([8, 168, 50, 6])\n",
      "torch.Size([8, 168, 50, 6])\n",
      "torch.Size([8, 168, 50, 6])\n",
      "torch.Size([8, 168, 50, 6])\n",
      "torch.Size([8, 168, 50, 6])\n",
      "torch.Size([8, 168, 50, 6])\n",
      "torch.Size([8, 168, 50, 6])\n",
      "torch.Size([8, 168, 50, 6])\n",
      "torch.Size([8, 168, 50, 6])\n",
      "torch.Size([8, 168, 50, 6])\n",
      "torch.Size([8, 168, 50, 6])\n",
      "torch.Size([8, 168, 50, 6])\n",
      "torch.Size([8, 168, 50, 6])\n",
      "torch.Size([8, 168, 50, 6])\n",
      "torch.Size([8, 168, 50, 6])\n",
      "torch.Size([8, 168, 50, 6])\n",
      "torch.Size([8, 168, 50, 6])\n",
      "torch.Size([8, 168, 50, 6])\n",
      "torch.Size([8, 168, 50, 6])\n",
      "torch.Size([8, 168, 50, 6])\n",
      "torch.Size([8, 168, 50, 6])\n",
      "torch.Size([8, 168, 50, 6])\n",
      "torch.Size([8, 168, 50, 6])\n",
      "torch.Size([8, 168, 50, 6])\n",
      "torch.Size([8, 168, 50, 6])\n",
      "torch.Size([8, 168, 50, 6])\n",
      "torch.Size([8, 168, 50, 6])\n",
      "torch.Size([8, 168, 50, 6])\n",
      "torch.Size([8, 168, 50, 6])\n",
      "torch.Size([8, 168, 50, 6])\n",
      "torch.Size([8, 168, 50, 6])\n",
      "torch.Size([8, 168, 50, 6])\n",
      "torch.Size([8, 168, 50, 6])\n",
      "torch.Size([8, 168, 50, 6])\n",
      "torch.Size([8, 168, 50, 6])\n",
      "torch.Size([8, 168, 50, 6])\n",
      "torch.Size([8, 168, 50, 6])\n",
      "torch.Size([8, 168, 50, 6])\n",
      "torch.Size([8, 168, 50, 6])\n",
      "torch.Size([8, 168, 50, 6])\n",
      "torch.Size([8, 168, 50, 6])\n",
      "torch.Size([8, 168, 50, 6])\n",
      "torch.Size([8, 168, 50, 6])\n",
      "torch.Size([8, 168, 50, 6])\n",
      "torch.Size([8, 168, 50, 6])\n",
      "torch.Size([8, 168, 50, 6])\n",
      "torch.Size([8, 168, 50, 6])\n",
      "torch.Size([8, 168, 50, 6])\n",
      "torch.Size([8, 168, 50, 6])\n",
      "torch.Size([8, 168, 50, 6])\n",
      "torch.Size([8, 168, 50, 6])\n",
      "torch.Size([8, 168, 50, 6])\n",
      "torch.Size([8, 168, 50, 6])\n",
      "torch.Size([8, 168, 50, 6])\n",
      "torch.Size([8, 168, 50, 6])\n",
      "torch.Size([8, 168, 50, 6])\n",
      "torch.Size([8, 168, 50, 6])\n",
      "torch.Size([8, 168, 50, 6])\n",
      "torch.Size([8, 168, 50, 6])\n",
      "torch.Size([8, 168, 50, 6])\n",
      "torch.Size([8, 168, 50, 6])\n",
      "torch.Size([8, 168, 50, 6])\n",
      "torch.Size([8, 168, 50, 6])\n",
      "torch.Size([8, 168, 50, 6])\n",
      "torch.Size([8, 168, 50, 6])\n",
      "torch.Size([8, 168, 50, 6])\n",
      "torch.Size([8, 168, 50, 6])\n",
      "torch.Size([8, 168, 50, 6])\n",
      "torch.Size([8, 168, 50, 6])\n",
      "torch.Size([8, 168, 50, 6])\n",
      "torch.Size([8, 168, 50, 6])\n",
      "torch.Size([8, 168, 50, 6])\n",
      "torch.Size([8, 168, 50, 6])\n",
      "torch.Size([8, 168, 50, 6])\n",
      "torch.Size([8, 168, 50, 6])\n",
      "torch.Size([8, 168, 50, 6])\n",
      "torch.Size([8, 168, 50, 6])\n",
      "torch.Size([8, 168, 50, 6])\n",
      "torch.Size([8, 168, 50, 6])\n",
      "torch.Size([8, 168, 50, 6])\n",
      "torch.Size([8, 168, 50, 6])\n",
      "torch.Size([8, 168, 50, 6])\n",
      "torch.Size([8, 168, 50, 6])\n",
      "torch.Size([8, 168, 50, 6])\n",
      "torch.Size([8, 168, 50, 6])\n",
      "torch.Size([8, 168, 50, 6])\n",
      "torch.Size([8, 168, 50, 6])\n",
      "torch.Size([8, 168, 50, 6])\n",
      "torch.Size([8, 168, 50, 6])\n",
      "torch.Size([8, 168, 50, 6])\n",
      "torch.Size([8, 168, 50, 6])\n",
      "torch.Size([8, 168, 50, 6])\n",
      "torch.Size([8, 168, 50, 6])\n",
      "torch.Size([8, 168, 50, 6])\n",
      "torch.Size([8, 168, 50, 6])\n",
      "torch.Size([8, 168, 50, 6])\n",
      "torch.Size([8, 168, 50, 6])\n",
      "torch.Size([8, 168, 50, 6])\n",
      "torch.Size([8, 168, 50, 6])\n",
      "torch.Size([8, 168, 50, 6])\n",
      "torch.Size([8, 168, 50, 6])\n",
      "torch.Size([8, 168, 50, 6])\n",
      "torch.Size([8, 168, 50, 6])\n",
      "torch.Size([8, 168, 50, 6])\n",
      "torch.Size([8, 168, 50, 6])\n",
      "torch.Size([8, 168, 50, 6])\n",
      "torch.Size([8, 168, 50, 6])\n",
      "torch.Size([8, 168, 50, 6])\n",
      "torch.Size([8, 168, 50, 6])\n",
      "torch.Size([8, 168, 50, 6])\n",
      "torch.Size([8, 168, 50, 6])\n",
      "torch.Size([8, 168, 50, 6])\n",
      "torch.Size([8, 168, 50, 6])\n",
      "torch.Size([8, 168, 50, 6])\n",
      "torch.Size([8, 168, 50, 6])\n",
      "torch.Size([8, 168, 50, 6])\n",
      "torch.Size([8, 168, 50, 6])\n",
      "torch.Size([8, 168, 50, 6])\n",
      "torch.Size([8, 168, 50, 6])\n",
      "torch.Size([8, 168, 50, 6])\n",
      "torch.Size([8, 168, 50, 6])\n",
      "torch.Size([8, 168, 50, 6])\n",
      "torch.Size([8, 168, 50, 6])\n",
      "torch.Size([8, 168, 50, 6])\n",
      "torch.Size([8, 168, 50, 6])\n",
      "torch.Size([8, 168, 50, 6])\n",
      "torch.Size([8, 168, 50, 6])\n",
      "torch.Size([8, 168, 50, 6])\n",
      "torch.Size([8, 168, 50, 6])\n",
      "torch.Size([8, 168, 50, 6])\n",
      "torch.Size([8, 168, 50, 6])\n",
      "torch.Size([8, 168, 50, 6])\n"
     ]
    }
   ],
   "source": [
    "from Data.generate_data import generate_data, get_data, get_and_normalize_data\n",
    "\n",
    "train_loader, valid_loader, test_loader, edge_index = generate_data(168, 50, 8, table_path='./DatasetUpdate/MMS.csv', edge_path='./DatasetUpdate/MMS_topology.pk')\n",
    "\n",
    "for x, y in train_loader:\n",
    "    print(x.shape)"
   ],
   "metadata": {
    "collapsed": false,
    "ExecuteTime": {
     "end_time": "2023-07-16T08:32:23.341644800Z",
     "start_time": "2023-07-16T08:32:20.276449200Z"
    }
   }
  },
  {
   "cell_type": "code",
   "execution_count": 7,
   "outputs": [
    {
     "data": {
      "text/plain": "torch.Size([8, 168, 50, 6])"
     },
     "execution_count": 7,
     "metadata": {},
     "output_type": "execute_result"
    }
   ],
   "source": [
    "from torch_geometric_temporal import EvolveGCNO\n",
    "model = EvolveGCNO(6)\n",
    "a = torch.randn(size=(8, 6, 50, 168)).transpose(1, -1)\n",
    "b = torch.ones(2, 100).type(torch.int64)\n",
    "model(a, b).shape"
   ],
   "metadata": {
    "collapsed": false,
    "ExecuteTime": {
     "end_time": "2023-07-16T08:36:09.553199600Z",
     "start_time": "2023-07-16T08:36:08.999614300Z"
    }
   }
  },
  {
   "cell_type": "code",
   "execution_count": null,
   "outputs": [],
   "source": [],
   "metadata": {
    "collapsed": false
   }
  }
 ],
 "metadata": {
  "kernelspec": {
   "display_name": "Python 3",
   "language": "python",
   "name": "python3"
  },
  "language_info": {
   "codemirror_mode": {
    "name": "ipython",
    "version": 2
   },
   "file_extension": ".py",
   "mimetype": "text/x-python",
   "name": "python",
   "nbconvert_exporter": "python",
   "pygments_lexer": "ipython2",
   "version": "2.7.6"
  }
 },
 "nbformat": 4,
 "nbformat_minor": 0
}
