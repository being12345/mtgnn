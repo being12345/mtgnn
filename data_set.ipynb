{
 "cells": [
  {
   "cell_type": "code",
   "execution_count": 1,
   "metadata": {
    "collapsed": true,
    "id": "-kDMmBzmc1DL",
    "executionInfo": {
     "status": "ok",
     "timestamp": 1688471529833,
     "user_tz": -480,
     "elapsed": 331,
     "user": {
      "displayName": "李李",
      "userId": "10255876934375316515"
     }
    },
    "colab": {
     "base_uri": "https://localhost:8080/"
    },
    "outputId": "9039788a-c1ee-46a2-9390-273c426e8b26",
    "ExecuteTime": {
     "end_time": "2023-07-12T04:10:47.022205800Z",
     "start_time": "2023-07-12T04:10:40.827152900Z"
    }
   },
   "outputs": [],
   "source": [
    "#data analysis libraries\n",
    "import numpy as np\n",
    "import pandas as pd\n",
    "\n",
    "# machine learning\n",
    "import sklearn\n",
    "\n",
    "#graph deep learning\n",
    "import torch\n",
    "import torch_geometric\n",
    "import networkx as nx\n",
    "from d2l import torch as d2l\n",
    "\n",
    "#visualization libraries\n",
    "import matplotlib.pyplot as plt\n",
    "import seaborn as sns\n",
    "import torch\n",
    "import torch_geometric\n",
    "%matplotlib inline\n",
    "\n",
    "#ignore warnings\n",
    "import warnings\n",
    "\n",
    "warnings.filterwarnings('ignore')\n",
    "\n",
    "# auto load change\n",
    "%load_ext autoreload\n",
    "%autoreload 2"
   ]
  },
  {
   "cell_type": "markdown",
   "source": [
    "## test x, y shape\n",
    "+ x: (3187, 30, 50, 6)\n",
    "+ y: (3187, 30, 50, 1)\n"
   ],
   "metadata": {
    "collapsed": false
   }
  },
  {
   "cell_type": "code",
   "execution_count": 45,
   "outputs": [],
   "source": [
    "from Data.generate_data import generate_data\n",
    "\n",
    "train_loader, valid_loader, test_loader, edge_index =  generate_data(50)"
   ],
   "metadata": {
    "collapsed": false,
    "ExecuteTime": {
     "end_time": "2023-07-12T04:43:41.064710200Z",
     "start_time": "2023-07-12T04:43:20.677779300Z"
    }
   }
  },
  {
   "cell_type": "code",
   "execution_count": 47,
   "outputs": [
    {
     "name": "stdout",
     "output_type": "stream",
     "text": [
      "torch.Size([32, 30, 50, 6]) torch.Size([32, 30, 50, 1])\n",
      "torch.Size([32, 30, 50, 6]) torch.Size([32, 30, 50, 1])\n",
      "torch.Size([32, 30, 50, 6]) torch.Size([32, 30, 50, 1])\n",
      "torch.Size([32, 30, 50, 6]) torch.Size([32, 30, 50, 1])\n",
      "torch.Size([32, 30, 50, 6]) torch.Size([32, 30, 50, 1])\n",
      "torch.Size([32, 30, 50, 6]) torch.Size([32, 30, 50, 1])\n",
      "torch.Size([32, 30, 50, 6]) torch.Size([32, 30, 50, 1])\n",
      "torch.Size([32, 30, 50, 6]) torch.Size([32, 30, 50, 1])\n",
      "torch.Size([32, 30, 50, 6]) torch.Size([32, 30, 50, 1])\n",
      "torch.Size([32, 30, 50, 6]) torch.Size([32, 30, 50, 1])\n",
      "torch.Size([32, 30, 50, 6]) torch.Size([32, 30, 50, 1])\n",
      "torch.Size([32, 30, 50, 6]) torch.Size([32, 30, 50, 1])\n",
      "torch.Size([32, 30, 50, 6]) torch.Size([32, 30, 50, 1])\n",
      "torch.Size([32, 30, 50, 6]) torch.Size([32, 30, 50, 1])\n",
      "torch.Size([32, 30, 50, 6]) torch.Size([32, 30, 50, 1])\n",
      "torch.Size([32, 30, 50, 6]) torch.Size([32, 30, 50, 1])\n",
      "torch.Size([32, 30, 50, 6]) torch.Size([32, 30, 50, 1])\n",
      "torch.Size([32, 30, 50, 6]) torch.Size([32, 30, 50, 1])\n",
      "torch.Size([32, 30, 50, 6]) torch.Size([32, 30, 50, 1])\n",
      "torch.Size([32, 30, 50, 6]) torch.Size([32, 30, 50, 1])\n",
      "torch.Size([32, 30, 50, 6]) torch.Size([32, 30, 50, 1])\n",
      "torch.Size([32, 30, 50, 6]) torch.Size([32, 30, 50, 1])\n",
      "torch.Size([32, 30, 50, 6]) torch.Size([32, 30, 50, 1])\n",
      "torch.Size([32, 30, 50, 6]) torch.Size([32, 30, 50, 1])\n",
      "torch.Size([32, 30, 50, 6]) torch.Size([32, 30, 50, 1])\n",
      "torch.Size([32, 30, 50, 6]) torch.Size([32, 30, 50, 1])\n",
      "torch.Size([32, 30, 50, 6]) torch.Size([32, 30, 50, 1])\n",
      "torch.Size([32, 30, 50, 6]) torch.Size([32, 30, 50, 1])\n",
      "torch.Size([32, 30, 50, 6]) torch.Size([32, 30, 50, 1])\n",
      "torch.Size([32, 30, 50, 6]) torch.Size([32, 30, 50, 1])\n",
      "torch.Size([32, 30, 50, 6]) torch.Size([32, 30, 50, 1])\n",
      "torch.Size([32, 30, 50, 6]) torch.Size([32, 30, 50, 1])\n",
      "torch.Size([32, 30, 50, 6]) torch.Size([32, 30, 50, 1])\n",
      "torch.Size([32, 30, 50, 6]) torch.Size([32, 30, 50, 1])\n",
      "torch.Size([32, 30, 50, 6]) torch.Size([32, 30, 50, 1])\n",
      "torch.Size([32, 30, 50, 6]) torch.Size([32, 30, 50, 1])\n",
      "torch.Size([32, 30, 50, 6]) torch.Size([32, 30, 50, 1])\n",
      "torch.Size([32, 30, 50, 6]) torch.Size([32, 30, 50, 1])\n",
      "torch.Size([32, 30, 50, 6]) torch.Size([32, 30, 50, 1])\n",
      "torch.Size([32, 30, 50, 6]) torch.Size([32, 30, 50, 1])\n",
      "torch.Size([32, 30, 50, 6]) torch.Size([32, 30, 50, 1])\n",
      "torch.Size([32, 30, 50, 6]) torch.Size([32, 30, 50, 1])\n",
      "torch.Size([32, 30, 50, 6]) torch.Size([32, 30, 50, 1])\n",
      "torch.Size([32, 30, 50, 6]) torch.Size([32, 30, 50, 1])\n",
      "torch.Size([32, 30, 50, 6]) torch.Size([32, 30, 50, 1])\n",
      "torch.Size([32, 30, 50, 6]) torch.Size([32, 30, 50, 1])\n",
      "torch.Size([32, 30, 50, 6]) torch.Size([32, 30, 50, 1])\n",
      "torch.Size([32, 30, 50, 6]) torch.Size([32, 30, 50, 1])\n",
      "torch.Size([32, 30, 50, 6]) torch.Size([32, 30, 50, 1])\n",
      "torch.Size([32, 30, 50, 6]) torch.Size([32, 30, 50, 1])\n",
      "torch.Size([32, 30, 50, 6]) torch.Size([32, 30, 50, 1])\n",
      "torch.Size([32, 30, 50, 6]) torch.Size([32, 30, 50, 1])\n",
      "torch.Size([32, 30, 50, 6]) torch.Size([32, 30, 50, 1])\n",
      "torch.Size([32, 30, 50, 6]) torch.Size([32, 30, 50, 1])\n",
      "torch.Size([32, 30, 50, 6]) torch.Size([32, 30, 50, 1])\n",
      "torch.Size([32, 30, 50, 6]) torch.Size([32, 30, 50, 1])\n",
      "torch.Size([32, 30, 50, 6]) torch.Size([32, 30, 50, 1])\n",
      "torch.Size([32, 30, 50, 6]) torch.Size([32, 30, 50, 1])\n",
      "torch.Size([32, 30, 50, 6]) torch.Size([32, 30, 50, 1])\n"
     ]
    }
   ],
   "source": [
    "for x, y in train_loader:\n",
    "    print(x.shape, y.shape)"
   ],
   "metadata": {
    "collapsed": false,
    "ExecuteTime": {
     "end_time": "2023-07-12T04:44:00.083297200Z",
     "start_time": "2023-07-12T04:43:59.489125100Z"
    }
   }
  },
  {
   "cell_type": "code",
   "execution_count": null,
   "outputs": [],
   "source": [],
   "metadata": {
    "collapsed": false
   }
  }
 ],
 "metadata": {
  "kernelspec": {
   "name": "python3",
   "language": "python",
   "display_name": "Python 3 (ipykernel)"
  },
  "language_info": {
   "codemirror_mode": {
    "name": "ipython",
    "version": 2
   },
   "file_extension": ".py",
   "mimetype": "text/x-python",
   "name": "python",
   "nbconvert_exporter": "python",
   "pygments_lexer": "ipython2",
   "version": "2.7.6"
  },
  "colab": {
   "provenance": [],
   "gpuType": "T4"
  },
  "accelerator": "GPU"
 },
 "nbformat": 4,
 "nbformat_minor": 0
}
