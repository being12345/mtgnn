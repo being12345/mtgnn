{
 "cells": [
  {
   "cell_type": "code",
   "execution_count": 56,
   "metadata": {
    "collapsed": true,
    "id": "-kDMmBzmc1DL",
    "executionInfo": {
     "status": "ok",
     "timestamp": 1688471529833,
     "user_tz": -480,
     "elapsed": 331,
     "user": {
      "displayName": "李李",
      "userId": "10255876934375316515"
     }
    },
    "colab": {
     "base_uri": "https://localhost:8080/"
    },
    "outputId": "9039788a-c1ee-46a2-9390-273c426e8b26",
    "ExecuteTime": {
     "end_time": "2023-07-12T05:08:49.647078300Z",
     "start_time": "2023-07-12T05:08:48.989642600Z"
    }
   },
   "outputs": [
    {
     "name": "stdout",
     "output_type": "stream",
     "text": [
      "The autoreload extension is already loaded. To reload it, use:\n",
      "  %reload_ext autoreload\n"
     ]
    }
   ],
   "source": [
    "#data analysis libraries\n",
    "import numpy as np\n",
    "import pandas as pd\n",
    "\n",
    "# machine learning\n",
    "import sklearn\n",
    "\n",
    "#graph deep learning\n",
    "import torch\n",
    "import torch_geometric\n",
    "import networkx as nx\n",
    "from d2l import torch as d2l\n",
    "\n",
    "#visualization libraries\n",
    "import matplotlib.pyplot as plt\n",
    "import seaborn as sns\n",
    "import torch\n",
    "import torch_geometric\n",
    "%matplotlib inline\n",
    "\n",
    "#ignore warnings\n",
    "import warnings\n",
    "\n",
    "warnings.filterwarnings('ignore')\n",
    "\n",
    "# auto load change\n",
    "%load_ext autoreload\n",
    "%autoreload 2"
   ]
  },
  {
   "cell_type": "code",
   "execution_count": 73,
   "outputs": [],
   "source": [
    "from Data.generate_data import get_data\n",
    "\n",
    "x, y, edge = get_data(50)"
   ],
   "metadata": {
    "collapsed": false,
    "ExecuteTime": {
     "end_time": "2023-07-12T05:48:25.755628600Z",
     "start_time": "2023-07-12T05:48:24.422040100Z"
    }
   }
  },
  {
   "cell_type": "markdown",
   "source": [
    "## test x, y shape\n",
    "+ x: (3187, 30, 50, 6)\n",
    "+ y: (3187, 30, 50, 1)\n"
   ],
   "metadata": {
    "collapsed": false
   }
  },
  {
   "cell_type": "code",
   "execution_count": 74,
   "outputs": [
    {
     "data": {
      "text/plain": "(3187, 6, 50, 30)"
     },
     "execution_count": 74,
     "metadata": {},
     "output_type": "execute_result"
    }
   ],
   "source": [
    "x.shape"
   ],
   "metadata": {
    "collapsed": false,
    "ExecuteTime": {
     "end_time": "2023-07-12T05:48:27.629187200Z",
     "start_time": "2023-07-12T05:48:27.183030700Z"
    }
   }
  },
  {
   "cell_type": "code",
   "execution_count": 76,
   "outputs": [
    {
     "data": {
      "text/plain": "array([-0.24398395,  3.01788125, -0.86853948, -0.5574395 ,  0.37395689,\n       -1.30260131])"
     },
     "execution_count": 76,
     "metadata": {},
     "output_type": "execute_result"
    }
   ],
   "source": [
    "x[0, :, 0, 0]"
   ],
   "metadata": {
    "collapsed": false,
    "ExecuteTime": {
     "end_time": "2023-07-12T05:49:20.036287Z",
     "start_time": "2023-07-12T05:49:19.535300900Z"
    }
   }
  },
  {
   "cell_type": "code",
   "execution_count": 72,
   "outputs": [],
   "source": [
    "from Data.generate_data import get_and_normalize_data\n",
    "\n",
    "df = get_and_normalize_data('./DatasetUpdate/MMS.csv')"
   ],
   "metadata": {
    "collapsed": false,
    "ExecuteTime": {
     "end_time": "2023-07-12T05:48:21.128200100Z",
     "start_time": "2023-07-12T05:48:19.666740900Z"
    }
   }
  },
  {
   "cell_type": "code",
   "execution_count": 65,
   "outputs": [
    {
     "data": {
      "text/plain": "pod    adservice-76469b5944-9tlwk                                      \\\nmetric                CpuUsage(m) MemoryUsage(Mi) NetworkReceiveBytes   \n0                       -0.149569        3.169005           -0.865079   \n1                       -0.155836        3.169005           -0.866398   \n2                       -0.120458        3.169005           -0.860104   \n3                       -0.119008        3.169005           -0.866202   \n4                       -0.116417        3.169005           -0.851693   \n...                           ...             ...                 ...   \n4363                     0.050429        2.972448           -0.658320   \n4364                     0.084544        2.972448           -0.653984   \n4367                    -0.567262        2.972448           -0.736490   \n4368                    -0.228262        2.970742           -0.726690   \n4369                    -0.022272        2.970742           -0.720676   \n\npod                                                                           \\\nmetric NetworkTransmitBytes PodLatency(s) PodSuccessRate(%) PodWorkload(Ops)   \n0                 -0.541802     -0.266415         -0.325425        -1.307591   \n1                 -0.557715     -0.266367         -0.846782        -1.272644   \n2                 -0.561757     -0.266419         -0.284285        -1.292588   \n3                 -0.562050     -0.266357         -0.942526        -1.292605   \n4                 -0.549667     -0.266365         -0.869388        -1.277437   \n...                     ...           ...               ...              ...   \n4363              -0.474146     -0.266271         -0.127093        -0.544091   \n4364              -0.468005     -0.266317         -0.127093        -0.544091   \n4367              -0.509701     -0.266212         -0.355833        -0.858467   \n4368              -0.501013     -0.266307         -0.374426        -0.764020   \n4369              -0.487382     -0.266403          0.049083        -0.773635   \n\npod    adservice-76469b5944-h6cqg                                      ...  \\\nmetric                CpuUsage(m) MemoryUsage(Mi) NetworkReceiveBytes  ...   \n0                       -0.243984        3.017881           -0.868539  ...   \n1                       -0.404297        3.017668           -0.868504  ...   \n2                       -0.287610        3.017881           -0.869992  ...   \n3                       -0.237696        3.017881           -0.868161  ...   \n4                       -0.221103        3.017668           -0.864126  ...   \n...                           ...             ...                 ...  ...   \n4363                    -0.171453        3.200253           -0.662942  ...   \n4364                     0.027819        3.200040           -0.668054  ...   \n4367                    -0.362398        3.200253           -0.736737  ...   \n4368                    -0.098033        3.200040           -0.715737  ...   \n4369                    -0.369245        3.200040           -0.718215  ...   \n\npod    shippingservice-7499794f94-gmcld                                     \\\nmetric                    PodLatency(s) PodSuccessRate(%) PodWorkload(Ops)   \n0                             -0.253859          0.373957        -1.252704   \n1                             -0.264830          0.373957        -1.267654   \n2                             -0.232834          0.373957        -1.322530   \n3                             -0.238634          0.373957        -1.357476   \n4                             -0.260673          0.373957        -1.327374   \n...                                 ...               ...              ...   \n4363                          -0.250234          0.373957        -0.539100   \n4364                          -0.249405          0.373957        -0.574031   \n4367                          -0.254169          0.373957        -0.838317   \n4368                          -0.249871          0.373957        -0.863776   \n4369                          -0.251684          0.373957        -0.748684   \n\npod    shippingservice-7499794f94-s67q7                                      \\\nmetric                      CpuUsage(m) MemoryUsage(Mi) NetworkReceiveBytes   \n0                             -1.065573       -0.635744           -0.849517   \n1                             -1.070134       -0.635744           -0.849156   \n2                             -1.054961       -0.635744           -0.857436   \n3                             -1.059975       -0.635744           -0.862312   \n4                             -1.051073       -0.635744           -0.859354   \n...                                 ...             ...                 ...   \n4363                          -0.928152       -0.633931           -0.632854   \n4364                          -0.932723       -0.633931           -0.631217   \n4367                          -0.911587       -0.633931           -0.718698   \n4368                          -0.987361       -0.633931           -0.748420   \n4369                          -0.904640       -0.633931           -0.698258   \n\npod                                                                           \nmetric NetworkTransmitBytes PodLatency(s) PodSuccessRate(%) PodWorkload(Ops)  \n0                 -0.563779     -0.237598          0.373957        -1.227755  \n1                 -0.567482     -0.252409          0.373957        -1.277635  \n2                 -0.570413     -0.259803          0.373957        -1.317540  \n3                 -0.572638     -0.266231          0.373957        -1.312565  \n4                 -0.566534     -0.245884          0.373957        -1.307399  \n...                     ...           ...               ...              ...  \n4363              -0.468224     -0.255309          0.373957        -0.574031  \n4364              -0.476814     -0.258353          0.373957        -0.603972  \n4367              -0.491967     -0.241534          0.373957        -0.818351  \n4368              -0.509610     -0.236990          0.373957        -0.878739  \n4369              -0.508169     -0.249750          0.373957        -0.798635  \n\n[3216 rows x 350 columns]",
      "text/html": "<div>\n<style scoped>\n    .dataframe tbody tr th:only-of-type {\n        vertical-align: middle;\n    }\n\n    .dataframe tbody tr th {\n        vertical-align: top;\n    }\n\n    .dataframe thead tr th {\n        text-align: left;\n    }\n</style>\n<table border=\"1\" class=\"dataframe\">\n  <thead>\n    <tr>\n      <th>pod</th>\n      <th colspan=\"7\" halign=\"left\">adservice-76469b5944-9tlwk</th>\n      <th colspan=\"3\" halign=\"left\">adservice-76469b5944-h6cqg</th>\n      <th>...</th>\n      <th colspan=\"3\" halign=\"left\">shippingservice-7499794f94-gmcld</th>\n      <th colspan=\"7\" halign=\"left\">shippingservice-7499794f94-s67q7</th>\n    </tr>\n    <tr>\n      <th>metric</th>\n      <th>CpuUsage(m)</th>\n      <th>MemoryUsage(Mi)</th>\n      <th>NetworkReceiveBytes</th>\n      <th>NetworkTransmitBytes</th>\n      <th>PodLatency(s)</th>\n      <th>PodSuccessRate(%)</th>\n      <th>PodWorkload(Ops)</th>\n      <th>CpuUsage(m)</th>\n      <th>MemoryUsage(Mi)</th>\n      <th>NetworkReceiveBytes</th>\n      <th>...</th>\n      <th>PodLatency(s)</th>\n      <th>PodSuccessRate(%)</th>\n      <th>PodWorkload(Ops)</th>\n      <th>CpuUsage(m)</th>\n      <th>MemoryUsage(Mi)</th>\n      <th>NetworkReceiveBytes</th>\n      <th>NetworkTransmitBytes</th>\n      <th>PodLatency(s)</th>\n      <th>PodSuccessRate(%)</th>\n      <th>PodWorkload(Ops)</th>\n    </tr>\n  </thead>\n  <tbody>\n    <tr>\n      <th>0</th>\n      <td>-0.149569</td>\n      <td>3.169005</td>\n      <td>-0.865079</td>\n      <td>-0.541802</td>\n      <td>-0.266415</td>\n      <td>-0.325425</td>\n      <td>-1.307591</td>\n      <td>-0.243984</td>\n      <td>3.017881</td>\n      <td>-0.868539</td>\n      <td>...</td>\n      <td>-0.253859</td>\n      <td>0.373957</td>\n      <td>-1.252704</td>\n      <td>-1.065573</td>\n      <td>-0.635744</td>\n      <td>-0.849517</td>\n      <td>-0.563779</td>\n      <td>-0.237598</td>\n      <td>0.373957</td>\n      <td>-1.227755</td>\n    </tr>\n    <tr>\n      <th>1</th>\n      <td>-0.155836</td>\n      <td>3.169005</td>\n      <td>-0.866398</td>\n      <td>-0.557715</td>\n      <td>-0.266367</td>\n      <td>-0.846782</td>\n      <td>-1.272644</td>\n      <td>-0.404297</td>\n      <td>3.017668</td>\n      <td>-0.868504</td>\n      <td>...</td>\n      <td>-0.264830</td>\n      <td>0.373957</td>\n      <td>-1.267654</td>\n      <td>-1.070134</td>\n      <td>-0.635744</td>\n      <td>-0.849156</td>\n      <td>-0.567482</td>\n      <td>-0.252409</td>\n      <td>0.373957</td>\n      <td>-1.277635</td>\n    </tr>\n    <tr>\n      <th>2</th>\n      <td>-0.120458</td>\n      <td>3.169005</td>\n      <td>-0.860104</td>\n      <td>-0.561757</td>\n      <td>-0.266419</td>\n      <td>-0.284285</td>\n      <td>-1.292588</td>\n      <td>-0.287610</td>\n      <td>3.017881</td>\n      <td>-0.869992</td>\n      <td>...</td>\n      <td>-0.232834</td>\n      <td>0.373957</td>\n      <td>-1.322530</td>\n      <td>-1.054961</td>\n      <td>-0.635744</td>\n      <td>-0.857436</td>\n      <td>-0.570413</td>\n      <td>-0.259803</td>\n      <td>0.373957</td>\n      <td>-1.317540</td>\n    </tr>\n    <tr>\n      <th>3</th>\n      <td>-0.119008</td>\n      <td>3.169005</td>\n      <td>-0.866202</td>\n      <td>-0.562050</td>\n      <td>-0.266357</td>\n      <td>-0.942526</td>\n      <td>-1.292605</td>\n      <td>-0.237696</td>\n      <td>3.017881</td>\n      <td>-0.868161</td>\n      <td>...</td>\n      <td>-0.238634</td>\n      <td>0.373957</td>\n      <td>-1.357476</td>\n      <td>-1.059975</td>\n      <td>-0.635744</td>\n      <td>-0.862312</td>\n      <td>-0.572638</td>\n      <td>-0.266231</td>\n      <td>0.373957</td>\n      <td>-1.312565</td>\n    </tr>\n    <tr>\n      <th>4</th>\n      <td>-0.116417</td>\n      <td>3.169005</td>\n      <td>-0.851693</td>\n      <td>-0.549667</td>\n      <td>-0.266365</td>\n      <td>-0.869388</td>\n      <td>-1.277437</td>\n      <td>-0.221103</td>\n      <td>3.017668</td>\n      <td>-0.864126</td>\n      <td>...</td>\n      <td>-0.260673</td>\n      <td>0.373957</td>\n      <td>-1.327374</td>\n      <td>-1.051073</td>\n      <td>-0.635744</td>\n      <td>-0.859354</td>\n      <td>-0.566534</td>\n      <td>-0.245884</td>\n      <td>0.373957</td>\n      <td>-1.307399</td>\n    </tr>\n    <tr>\n      <th>...</th>\n      <td>...</td>\n      <td>...</td>\n      <td>...</td>\n      <td>...</td>\n      <td>...</td>\n      <td>...</td>\n      <td>...</td>\n      <td>...</td>\n      <td>...</td>\n      <td>...</td>\n      <td>...</td>\n      <td>...</td>\n      <td>...</td>\n      <td>...</td>\n      <td>...</td>\n      <td>...</td>\n      <td>...</td>\n      <td>...</td>\n      <td>...</td>\n      <td>...</td>\n      <td>...</td>\n    </tr>\n    <tr>\n      <th>4363</th>\n      <td>0.050429</td>\n      <td>2.972448</td>\n      <td>-0.658320</td>\n      <td>-0.474146</td>\n      <td>-0.266271</td>\n      <td>-0.127093</td>\n      <td>-0.544091</td>\n      <td>-0.171453</td>\n      <td>3.200253</td>\n      <td>-0.662942</td>\n      <td>...</td>\n      <td>-0.250234</td>\n      <td>0.373957</td>\n      <td>-0.539100</td>\n      <td>-0.928152</td>\n      <td>-0.633931</td>\n      <td>-0.632854</td>\n      <td>-0.468224</td>\n      <td>-0.255309</td>\n      <td>0.373957</td>\n      <td>-0.574031</td>\n    </tr>\n    <tr>\n      <th>4364</th>\n      <td>0.084544</td>\n      <td>2.972448</td>\n      <td>-0.653984</td>\n      <td>-0.468005</td>\n      <td>-0.266317</td>\n      <td>-0.127093</td>\n      <td>-0.544091</td>\n      <td>0.027819</td>\n      <td>3.200040</td>\n      <td>-0.668054</td>\n      <td>...</td>\n      <td>-0.249405</td>\n      <td>0.373957</td>\n      <td>-0.574031</td>\n      <td>-0.932723</td>\n      <td>-0.633931</td>\n      <td>-0.631217</td>\n      <td>-0.476814</td>\n      <td>-0.258353</td>\n      <td>0.373957</td>\n      <td>-0.603972</td>\n    </tr>\n    <tr>\n      <th>4367</th>\n      <td>-0.567262</td>\n      <td>2.972448</td>\n      <td>-0.736490</td>\n      <td>-0.509701</td>\n      <td>-0.266212</td>\n      <td>-0.355833</td>\n      <td>-0.858467</td>\n      <td>-0.362398</td>\n      <td>3.200253</td>\n      <td>-0.736737</td>\n      <td>...</td>\n      <td>-0.254169</td>\n      <td>0.373957</td>\n      <td>-0.838317</td>\n      <td>-0.911587</td>\n      <td>-0.633931</td>\n      <td>-0.718698</td>\n      <td>-0.491967</td>\n      <td>-0.241534</td>\n      <td>0.373957</td>\n      <td>-0.818351</td>\n    </tr>\n    <tr>\n      <th>4368</th>\n      <td>-0.228262</td>\n      <td>2.970742</td>\n      <td>-0.726690</td>\n      <td>-0.501013</td>\n      <td>-0.266307</td>\n      <td>-0.374426</td>\n      <td>-0.764020</td>\n      <td>-0.098033</td>\n      <td>3.200040</td>\n      <td>-0.715737</td>\n      <td>...</td>\n      <td>-0.249871</td>\n      <td>0.373957</td>\n      <td>-0.863776</td>\n      <td>-0.987361</td>\n      <td>-0.633931</td>\n      <td>-0.748420</td>\n      <td>-0.509610</td>\n      <td>-0.236990</td>\n      <td>0.373957</td>\n      <td>-0.878739</td>\n    </tr>\n    <tr>\n      <th>4369</th>\n      <td>-0.022272</td>\n      <td>2.970742</td>\n      <td>-0.720676</td>\n      <td>-0.487382</td>\n      <td>-0.266403</td>\n      <td>0.049083</td>\n      <td>-0.773635</td>\n      <td>-0.369245</td>\n      <td>3.200040</td>\n      <td>-0.718215</td>\n      <td>...</td>\n      <td>-0.251684</td>\n      <td>0.373957</td>\n      <td>-0.748684</td>\n      <td>-0.904640</td>\n      <td>-0.633931</td>\n      <td>-0.698258</td>\n      <td>-0.508169</td>\n      <td>-0.249750</td>\n      <td>0.373957</td>\n      <td>-0.798635</td>\n    </tr>\n  </tbody>\n</table>\n<p>3216 rows × 350 columns</p>\n</div>"
     },
     "execution_count": 65,
     "metadata": {},
     "output_type": "execute_result"
    }
   ],
   "source": [
    "df"
   ],
   "metadata": {
    "collapsed": false,
    "ExecuteTime": {
     "end_time": "2023-07-12T05:37:32.388191100Z",
     "start_time": "2023-07-12T05:37:32.105509300Z"
    }
   }
  },
  {
   "cell_type": "code",
   "execution_count": 63,
   "outputs": [],
   "source": [
    "assert x[0][0][1, 2] == df.iloc[0, 9]\n",
    "assert y[0][0][1] == df.iloc[0, 11]"
   ],
   "metadata": {
    "collapsed": false,
    "ExecuteTime": {
     "end_time": "2023-07-12T05:10:53.673440300Z",
     "start_time": "2023-07-12T05:10:53.082319300Z"
    }
   }
  },
  {
   "cell_type": "code",
   "execution_count": null,
   "outputs": [],
   "source": [],
   "metadata": {
    "collapsed": false
   }
  },
  {
   "cell_type": "code",
   "execution_count": 44,
   "outputs": [],
   "source": [
    "from Data.DataSet import Dataset\n",
    "\n",
    "data = Dataset(x, y)"
   ],
   "metadata": {
    "collapsed": false
   }
  },
  {
   "cell_type": "code",
   "execution_count": 5,
   "outputs": [],
   "source": [
    "from graph_lstm_vae_ad_ver6 import GraphLSTM_VAE_AD\n",
    "\n",
    "lstm = GraphLSTM_VAE_AD()\n",
    "train_loader, valid_loader, test_loader = lstm.get_train_valid_test(data, 50)"
   ],
   "metadata": {
    "collapsed": false
   }
  },
  {
   "cell_type": "code",
   "execution_count": 6,
   "outputs": [],
   "source": [
    "for x, y in train_loader:\n",
    "    print(x.shape)"
   ],
   "metadata": {
    "collapsed": false
   }
  },
  {
   "cell_type": "code",
   "execution_count": null,
   "outputs": [],
   "source": [
    "args: {'log_interval': 2000, 'save': 'model/model.pt', 'optim': 'adam', 'L1Loss': True, 'device': 'cuda:1',\n",
    "       , ,  , ,\n",
    "       , , , 'in_dim': 1, 'seq_in_len': 168,\n",
    "       'seq_out_len': 1, 'horizon': 3, 'layers': 5, 'batch_size': 4, 'lr': 0.0001, 'weight_decay': 1e-05, 'clip': 5,\n",
    "       'propalpha': 0.05, 'tanhalpha': 3, 'epochs': 30, 'num_split': 1, 'step_size': 100}\n"
   ],
   "metadata": {
    "collapsed": false
   }
  },
  {
   "cell_type": "code",
   "execution_count": null,
   "outputs": [],
   "source": [
    "# TODO: no kernel_set and kernel_size node_dim layer_norm_affline\n",
    "\n",
    "model_args = {'gcn_true': True, 'buildA_true': False,   'gcn_depth': 2, 'num_nodes': 50, 'dropout': 0.3, 'subgraph_size': 20, 'node_dim': 6, 'dilation_exponential': 2, 'conv_channels': 16, 'residual_channels': 16, 'skip_channels': 32, 'end_channels': 64, 'seq_length': 30, 'in_dim': 6,'layers': 5, 'propalpha': 0.05, 'tanhalpha': 3, 'layer_norm_affline': True\n",
    "\n",
    "}"
   ],
   "metadata": {
    "collapsed": false
   }
  }
 ],
 "metadata": {
  "kernelspec": {
   "name": "python3",
   "language": "python",
   "display_name": "Python 3 (ipykernel)"
  },
  "language_info": {
   "codemirror_mode": {
    "name": "ipython",
    "version": 2
   },
   "file_extension": ".py",
   "mimetype": "text/x-python",
   "name": "python",
   "nbconvert_exporter": "python",
   "pygments_lexer": "ipython2",
   "version": "2.7.6"
  },
  "colab": {
   "provenance": [],
   "gpuType": "T4"
  },
  "accelerator": "GPU"
 },
 "nbformat": 4,
 "nbformat_minor": 0
}
