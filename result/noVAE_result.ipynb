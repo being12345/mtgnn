{
 "cells": [
  {
   "cell_type": "code",
   "execution_count": 1,
   "metadata": {
    "collapsed": true,
    "id": "-kDMmBzmc1DL",
    "executionInfo": {
     "status": "ok",
     "timestamp": 1688471529833,
     "user_tz": -480,
     "elapsed": 331,
     "user": {
      "displayName": "李李",
      "userId": "10255876934375316515"
     }
    },
    "colab": {
     "base_uri": "https://localhost:8080/"
    },
    "outputId": "9039788a-c1ee-46a2-9390-273c426e8b26",
    "ExecuteTime": {
     "end_time": "2023-07-11T10:49:46.865296300Z",
     "start_time": "2023-07-11T10:49:42.703769100Z"
    }
   },
   "outputs": [],
   "source": [
    "#data analysis libraries\n",
    "import numpy as np\n",
    "import pandas as pd\n",
    "\n",
    "# machine learning\n",
    "import sklearn\n",
    "\n",
    "#graph deep learning\n",
    "import torch\n",
    "import torch_geometric\n",
    "import networkx as nx\n",
    "from d2l import torch as d2l\n",
    "\n",
    "#visualization libraries\n",
    "import matplotlib.pyplot as plt\n",
    "import seaborn as sns\n",
    "import torch\n",
    "import torch_geometric\n",
    "%matplotlib inline\n",
    "\n",
    "#ignore warnings\n",
    "import warnings\n",
    "\n",
    "warnings.filterwarnings('ignore')\n",
    "\n",
    "# auto load change\n",
    "%load_ext autoreload\n",
    "%autoreload 2"
   ]
  },
  {
   "cell_type": "markdown",
   "source": [
    "# GNN + LSTM\n",
    "**notice: train and predict all process in `graphlstm_vae_ad.py`**"
   ],
   "metadata": {
    "collapsed": false,
    "id": "S26EvPlyc1DM"
   }
  },
  {
   "cell_type": "markdown",
   "source": [
    "## load data\n",
    "metrics will be reshape like : **(num_timeseries, num_micorservice, performance_metrics)**"
   ],
   "metadata": {
    "collapsed": false,
    "id": "SA0zF1KPc1DO"
   }
  },
  {
   "cell_type": "code",
   "execution_count": 13,
   "outputs": [],
   "source": [
    "from util.clean_data import get_and_normalize_data\n",
    "\n",
    "metrics = get_and_normalize_data('DatasetUpdate/MMS (1).csv')"
   ],
   "metadata": {
    "id": "8n_MeOzvc1DO",
    "executionInfo": {
     "status": "ok",
     "timestamp": 1688469012740,
     "user_tz": -480,
     "elapsed": 1590,
     "user": {
      "displayName": "李李",
      "userId": "10255876934375316515"
     }
    },
    "ExecuteTime": {
     "end_time": "2023-07-11T10:52:17.481124800Z",
     "start_time": "2023-07-11T10:52:16.727784Z"
    }
   }
  },
  {
   "cell_type": "code",
   "source": [
    "from sklearn.model_selection import train_test_split\n",
    "\n",
    "train, test = train_test_split(metrics, test_size=0.3, shuffle=False)"
   ],
   "metadata": {
    "id": "DhJRlw_hluR3",
    "executionInfo": {
     "status": "ok",
     "timestamp": 1688469015212,
     "user_tz": -480,
     "elapsed": 482,
     "user": {
      "displayName": "李李",
      "userId": "10255876934375316515"
     }
    },
    "ExecuteTime": {
     "end_time": "2023-07-11T10:52:19.178063500Z",
     "start_time": "2023-07-11T10:52:18.928972Z"
    }
   },
   "execution_count": 14,
   "outputs": [
    {
     "data": {
      "text/plain": "pod                               metric              \nadservice-76469b5944-9tlwk        CpuUsage(m)             0\n                                  MemoryUsage(Mi)         0\n                                  NetworkReceiveBytes     0\n                                  NetworkTransmitBytes    0\n                                  PodLatency(s)           0\n                                                         ..\nshippingservice-7499794f94-s67q7  NetworkReceiveBytes     0\n                                  NetworkTransmitBytes    0\n                                  PodLatency(s)           0\n                                  PodSuccessRate(%)       0\n                                  PodWorkload(Ops)        0\nLength: 350, dtype: int64"
     },
     "execution_count": 14,
     "metadata": {},
     "output_type": "execute_result"
    }
   ]
  },
  {
   "cell_type": "code",
   "execution_count": 15,
   "outputs": [],
   "source": [
    "metrics"
   ],
   "metadata": {
    "collapsed": false,
    "ExecuteTime": {
     "end_time": "2023-07-11T10:53:46.924196800Z",
     "start_time": "2023-07-11T10:53:46.611748700Z"
    }
   }
  },
  {
   "cell_type": "code",
   "execution_count": 20,
   "outputs": [
    {
     "data": {
      "text/plain": "19"
     },
     "execution_count": 20,
     "metadata": {},
     "output_type": "execute_result"
    }
   ],
   "source": [
    "train"
   ],
   "metadata": {
    "collapsed": false,
    "ExecuteTime": {
     "end_time": "2023-07-11T10:54:48.629248300Z",
     "start_time": "2023-07-11T10:54:48.386295Z"
    }
   }
  },
  {
   "cell_type": "code",
   "execution_count": 22,
   "outputs": [],
   "source": [
    "import pickle\n",
    "\n",
    "with open('DatasetUpdate/MMS_topology.pk', 'rb') as f:\n",
    "    edge_index = pickle.load(f)"
   ],
   "metadata": {
    "collapsed": false,
    "ExecuteTime": {
     "end_time": "2023-07-11T10:56:15.180430300Z",
     "start_time": "2023-07-11T10:56:14.694427500Z"
    }
   }
  },
  {
   "cell_type": "code",
   "execution_count": 25,
   "outputs": [
    {
     "data": {
      "text/plain": "                TimeStamp adservice-76469b5944-9tlwk                  \\\n       Unnamed: 0_level_1                CpuUsage(m) MemoryUsage(Mi)   \n0     2020-04-02 14:45:00                   2.579968      145.703125   \n1     2020-04-02 14:46:00                   2.563623      145.703125   \n2     2020-04-02 14:47:00                   2.655893      145.703125   \n3     2020-04-02 14:48:00                   2.659674      145.703125   \n4     2020-04-02 14:49:00                   2.666432      145.703125   \n...                   ...                        ...             ...   \n4365  2020-04-05 16:07:00                   3.125695      138.441406   \n4366  2020-04-05 16:08:00                        NaN             NaN   \n4367  2020-04-05 16:09:00                   1.490589      138.503906   \n4368  2020-04-05 16:10:00                   2.374731      138.441406   \n4369  2020-04-05 16:11:00                   2.911970      138.441406   \n\n                                                                 \\\n     NetworkReceiveBytes NetworkTransmitBytes PodSuccessRate(%)   \n0            2109.643981         10315.049053         95.833333   \n1            2081.221198          8537.689269         92.727273   \n2            2216.787299          8086.154565         96.078431   \n3            2085.443038          8053.409972         92.156863   \n4            2397.958293          9436.523864         92.592593   \n...                  ...                  ...               ...   \n4365         6620.963686         20772.759280         99.043062   \n4366                 NaN                  NaN               NaN   \n4367         4879.333552         13900.432900         95.652174   \n4368         5090.418062         14870.854488         95.541401   \n4369         5219.939418         16393.256947         98.064516   \n\n                      adservice-76469b5944-h6cqg                  \\\n     PodWorkload(Ops)                CpuUsage(m) MemoryUsage(Mi)   \n0            3.199787                   2.333726      140.167969   \n1            3.666667                   1.915617      140.160156   \n2            3.400227                   2.219946      140.167969   \n3            3.400000                   2.350126      140.167969   \n4            3.602642                   2.393401      140.160156   \n...               ...                        ...             ...   \n4365        13.920341                        NaN             NaN   \n4366              NaN                   3.051511      146.839844   \n4367         9.200000                   2.024893      146.847656   \n4368        10.461785                   2.714380      146.839844   \n4369        10.333333                   2.007035      146.839844   \n\n                          ... shippingservice-7499794f94-gmcld  \\\n     NetworkReceiveBytes  ...             NetworkTransmitBytes   \n0            2035.099393  ...                      7772.816879   \n1            2035.866717  ...                      7377.946267   \n2            2003.811486  ...                      4599.361214   \n3            2043.254466  ...                      6608.513608   \n4            2130.156700  ...                      7770.101213   \n...                  ...  ...                              ...   \n4365                 NaN  ...                              NaN   \n4366         6576.701210  ...                     17056.327922   \n4367         4874.003820  ...                     14847.764072   \n4368         5326.326895  ...                     10481.878662   \n4369         5272.956327  ...                     13375.982510   \n\n                                        shippingservice-7499794f94-s67q7  \\\n     PodSuccessRate(%) PodWorkload(Ops)                      CpuUsage(m)   \n0                100.0         3.933071                         0.190951   \n1                100.0         3.733333                         0.179055   \n2                100.0         3.000200                         0.218627   \n3                100.0         2.533333                         0.205551   \n4                100.0         2.935486                         0.228768   \n...                ...              ...                              ...   \n4365               NaN              NaN                         0.452821   \n4366             100.0        12.654855                              NaN   \n4367             100.0         9.469192                         0.592559   \n4368             100.0         9.129073                         0.394935   \n4369             100.0        10.666667                         0.610678   \n\n                                                               \\\n     MemoryUsage(Mi) NetworkReceiveBytes NetworkTransmitBytes   \n0           6.347656         2444.836717          7860.370697   \n1           6.347656         2452.611662          7446.706037   \n2           6.347656         2274.252137          7119.337607   \n3           6.347656         2169.230769          6870.839618   \n4           6.347656         2232.938559          7552.574756   \n...              ...                 ...                  ...   \n4365        6.414062         6485.931773         18004.905554   \n4366             NaN                 NaN                  NaN   \n4367        6.414062         5262.541022         15881.153305   \n4368        6.414062         4622.368199         13910.645107   \n4369        6.414062         5702.821116         14071.543065   \n\n                                                       label  \n     PodSuccessRate(%) PodWorkload(Ops) Unnamed: 351_level_1  \n0                100.0         4.266382                    0  \n1                100.0         3.600000                    0  \n2                100.0         3.066871                    0  \n3                100.0         3.133333                    0  \n4                100.0         3.202348                    0  \n...                ...              ...                  ...  \n4365             100.0        12.321833                    0  \n4366               NaN              NaN                    0  \n4367             100.0         9.735930                    0  \n4368             100.0         8.929166                    0  \n4369             100.0         9.999333                    0  \n\n[4370 rows x 302 columns]",
      "text/html": "<div>\n<style scoped>\n    .dataframe tbody tr th:only-of-type {\n        vertical-align: middle;\n    }\n\n    .dataframe tbody tr th {\n        vertical-align: top;\n    }\n\n    .dataframe thead tr th {\n        text-align: left;\n    }\n</style>\n<table border=\"1\" class=\"dataframe\">\n  <thead>\n    <tr>\n      <th></th>\n      <th>TimeStamp</th>\n      <th colspan=\"6\" halign=\"left\">adservice-76469b5944-9tlwk</th>\n      <th colspan=\"3\" halign=\"left\">adservice-76469b5944-h6cqg</th>\n      <th>...</th>\n      <th colspan=\"3\" halign=\"left\">shippingservice-7499794f94-gmcld</th>\n      <th colspan=\"6\" halign=\"left\">shippingservice-7499794f94-s67q7</th>\n      <th>label</th>\n    </tr>\n    <tr>\n      <th></th>\n      <th>Unnamed: 0_level_1</th>\n      <th>CpuUsage(m)</th>\n      <th>MemoryUsage(Mi)</th>\n      <th>NetworkReceiveBytes</th>\n      <th>NetworkTransmitBytes</th>\n      <th>PodSuccessRate(%)</th>\n      <th>PodWorkload(Ops)</th>\n      <th>CpuUsage(m)</th>\n      <th>MemoryUsage(Mi)</th>\n      <th>NetworkReceiveBytes</th>\n      <th>...</th>\n      <th>NetworkTransmitBytes</th>\n      <th>PodSuccessRate(%)</th>\n      <th>PodWorkload(Ops)</th>\n      <th>CpuUsage(m)</th>\n      <th>MemoryUsage(Mi)</th>\n      <th>NetworkReceiveBytes</th>\n      <th>NetworkTransmitBytes</th>\n      <th>PodSuccessRate(%)</th>\n      <th>PodWorkload(Ops)</th>\n      <th>Unnamed: 351_level_1</th>\n    </tr>\n  </thead>\n  <tbody>\n    <tr>\n      <th>0</th>\n      <td>2020-04-02 14:45:00</td>\n      <td>2.579968</td>\n      <td>145.703125</td>\n      <td>2109.643981</td>\n      <td>10315.049053</td>\n      <td>95.833333</td>\n      <td>3.199787</td>\n      <td>2.333726</td>\n      <td>140.167969</td>\n      <td>2035.099393</td>\n      <td>...</td>\n      <td>7772.816879</td>\n      <td>100.0</td>\n      <td>3.933071</td>\n      <td>0.190951</td>\n      <td>6.347656</td>\n      <td>2444.836717</td>\n      <td>7860.370697</td>\n      <td>100.0</td>\n      <td>4.266382</td>\n      <td>0</td>\n    </tr>\n    <tr>\n      <th>1</th>\n      <td>2020-04-02 14:46:00</td>\n      <td>2.563623</td>\n      <td>145.703125</td>\n      <td>2081.221198</td>\n      <td>8537.689269</td>\n      <td>92.727273</td>\n      <td>3.666667</td>\n      <td>1.915617</td>\n      <td>140.160156</td>\n      <td>2035.866717</td>\n      <td>...</td>\n      <td>7377.946267</td>\n      <td>100.0</td>\n      <td>3.733333</td>\n      <td>0.179055</td>\n      <td>6.347656</td>\n      <td>2452.611662</td>\n      <td>7446.706037</td>\n      <td>100.0</td>\n      <td>3.600000</td>\n      <td>0</td>\n    </tr>\n    <tr>\n      <th>2</th>\n      <td>2020-04-02 14:47:00</td>\n      <td>2.655893</td>\n      <td>145.703125</td>\n      <td>2216.787299</td>\n      <td>8086.154565</td>\n      <td>96.078431</td>\n      <td>3.400227</td>\n      <td>2.219946</td>\n      <td>140.167969</td>\n      <td>2003.811486</td>\n      <td>...</td>\n      <td>4599.361214</td>\n      <td>100.0</td>\n      <td>3.000200</td>\n      <td>0.218627</td>\n      <td>6.347656</td>\n      <td>2274.252137</td>\n      <td>7119.337607</td>\n      <td>100.0</td>\n      <td>3.066871</td>\n      <td>0</td>\n    </tr>\n    <tr>\n      <th>3</th>\n      <td>2020-04-02 14:48:00</td>\n      <td>2.659674</td>\n      <td>145.703125</td>\n      <td>2085.443038</td>\n      <td>8053.409972</td>\n      <td>92.156863</td>\n      <td>3.400000</td>\n      <td>2.350126</td>\n      <td>140.167969</td>\n      <td>2043.254466</td>\n      <td>...</td>\n      <td>6608.513608</td>\n      <td>100.0</td>\n      <td>2.533333</td>\n      <td>0.205551</td>\n      <td>6.347656</td>\n      <td>2169.230769</td>\n      <td>6870.839618</td>\n      <td>100.0</td>\n      <td>3.133333</td>\n      <td>0</td>\n    </tr>\n    <tr>\n      <th>4</th>\n      <td>2020-04-02 14:49:00</td>\n      <td>2.666432</td>\n      <td>145.703125</td>\n      <td>2397.958293</td>\n      <td>9436.523864</td>\n      <td>92.592593</td>\n      <td>3.602642</td>\n      <td>2.393401</td>\n      <td>140.160156</td>\n      <td>2130.156700</td>\n      <td>...</td>\n      <td>7770.101213</td>\n      <td>100.0</td>\n      <td>2.935486</td>\n      <td>0.228768</td>\n      <td>6.347656</td>\n      <td>2232.938559</td>\n      <td>7552.574756</td>\n      <td>100.0</td>\n      <td>3.202348</td>\n      <td>0</td>\n    </tr>\n    <tr>\n      <th>...</th>\n      <td>...</td>\n      <td>...</td>\n      <td>...</td>\n      <td>...</td>\n      <td>...</td>\n      <td>...</td>\n      <td>...</td>\n      <td>...</td>\n      <td>...</td>\n      <td>...</td>\n      <td>...</td>\n      <td>...</td>\n      <td>...</td>\n      <td>...</td>\n      <td>...</td>\n      <td>...</td>\n      <td>...</td>\n      <td>...</td>\n      <td>...</td>\n      <td>...</td>\n      <td>...</td>\n    </tr>\n    <tr>\n      <th>4365</th>\n      <td>2020-04-05 16:07:00</td>\n      <td>3.125695</td>\n      <td>138.441406</td>\n      <td>6620.963686</td>\n      <td>20772.759280</td>\n      <td>99.043062</td>\n      <td>13.920341</td>\n      <td>NaN</td>\n      <td>NaN</td>\n      <td>NaN</td>\n      <td>...</td>\n      <td>NaN</td>\n      <td>NaN</td>\n      <td>NaN</td>\n      <td>0.452821</td>\n      <td>6.414062</td>\n      <td>6485.931773</td>\n      <td>18004.905554</td>\n      <td>100.0</td>\n      <td>12.321833</td>\n      <td>0</td>\n    </tr>\n    <tr>\n      <th>4366</th>\n      <td>2020-04-05 16:08:00</td>\n      <td>NaN</td>\n      <td>NaN</td>\n      <td>NaN</td>\n      <td>NaN</td>\n      <td>NaN</td>\n      <td>NaN</td>\n      <td>3.051511</td>\n      <td>146.839844</td>\n      <td>6576.701210</td>\n      <td>...</td>\n      <td>17056.327922</td>\n      <td>100.0</td>\n      <td>12.654855</td>\n      <td>NaN</td>\n      <td>NaN</td>\n      <td>NaN</td>\n      <td>NaN</td>\n      <td>NaN</td>\n      <td>NaN</td>\n      <td>0</td>\n    </tr>\n    <tr>\n      <th>4367</th>\n      <td>2020-04-05 16:09:00</td>\n      <td>1.490589</td>\n      <td>138.503906</td>\n      <td>4879.333552</td>\n      <td>13900.432900</td>\n      <td>95.652174</td>\n      <td>9.200000</td>\n      <td>2.024893</td>\n      <td>146.847656</td>\n      <td>4874.003820</td>\n      <td>...</td>\n      <td>14847.764072</td>\n      <td>100.0</td>\n      <td>9.469192</td>\n      <td>0.592559</td>\n      <td>6.414062</td>\n      <td>5262.541022</td>\n      <td>15881.153305</td>\n      <td>100.0</td>\n      <td>9.735930</td>\n      <td>0</td>\n    </tr>\n    <tr>\n      <th>4368</th>\n      <td>2020-04-05 16:10:00</td>\n      <td>2.374731</td>\n      <td>138.441406</td>\n      <td>5090.418062</td>\n      <td>14870.854488</td>\n      <td>95.541401</td>\n      <td>10.461785</td>\n      <td>2.714380</td>\n      <td>146.839844</td>\n      <td>5326.326895</td>\n      <td>...</td>\n      <td>10481.878662</td>\n      <td>100.0</td>\n      <td>9.129073</td>\n      <td>0.394935</td>\n      <td>6.414062</td>\n      <td>4622.368199</td>\n      <td>13910.645107</td>\n      <td>100.0</td>\n      <td>8.929166</td>\n      <td>0</td>\n    </tr>\n    <tr>\n      <th>4369</th>\n      <td>2020-04-05 16:11:00</td>\n      <td>2.911970</td>\n      <td>138.441406</td>\n      <td>5219.939418</td>\n      <td>16393.256947</td>\n      <td>98.064516</td>\n      <td>10.333333</td>\n      <td>2.007035</td>\n      <td>146.839844</td>\n      <td>5272.956327</td>\n      <td>...</td>\n      <td>13375.982510</td>\n      <td>100.0</td>\n      <td>10.666667</td>\n      <td>0.610678</td>\n      <td>6.414062</td>\n      <td>5702.821116</td>\n      <td>14071.543065</td>\n      <td>100.0</td>\n      <td>9.999333</td>\n      <td>0</td>\n    </tr>\n  </tbody>\n</table>\n<p>4370 rows × 302 columns</p>\n</div>"
     },
     "execution_count": 25,
     "metadata": {},
     "output_type": "execute_result"
    }
   ],
   "source": [
    "from graph_lstm_vae_ad_ver6 import GraphLSTM_VAE_AD\n",
    "def test_batch_independence():\n",
    "    net = GraphLSTM_VAE_AD()\n",
    "\n",
    "    outputs = net.fit(train, 50, edge_index)\n",
    "\n",
    "    # Mask loss for certain samples in batch\n",
    "    batch_size = train[0].shape[0]\n",
    "    mask_idx = torch.randint(0, batch_size, ())\n",
    "    mask = torch.ones_like(outputs)\n",
    "    mask[mask_idx] = 0\n",
    "    outputs = outputs * mask\n",
    "\n",
    "    # Compute backward pass\n",
    "    loss = outputs.mean()\n",
    "    loss.backward()\n",
    "\n",
    "    # Check if gradient exists and is zero for masked samples\n",
    "    for i, grad in enumerate(train.grad):\n",
    "        if i == mask_idx:\n",
    "            assert torch.all(grad == 0).item()\n",
    "        else:\n",
    "            assert not torch.all(grad == 0)\n",
    "test_batch_independence()"
   ],
   "metadata": {
    "collapsed": false,
    "ExecuteTime": {
     "end_time": "2023-07-11T10:57:40.768537500Z",
     "start_time": "2023-07-11T10:57:40.481070400Z"
    }
   }
  },
  {
   "cell_type": "markdown",
   "source": [
    "## train\n",
    "**only split train and test**"
   ],
   "metadata": {
    "collapsed": false,
    "id": "NOhmpL-7c1DP",
    "ExecuteTime": {
     "end_time": "2023-07-11T10:57:16.746431200Z",
     "start_time": "2023-07-11T10:57:16.509430100Z"
    }
   },
   "outputs": [
    {
     "data": {
      "text/plain": "MultiIndex([(                       'TimeStamp',   'Unnamed: 0_level_1'),\n            (      'adservice-76469b5944-9tlwk',          'CpuUsage(m)'),\n            (      'adservice-76469b5944-9tlwk',      'MemoryUsage(Mi)'),\n            (      'adservice-76469b5944-9tlwk',  'NetworkReceiveBytes'),\n            (      'adservice-76469b5944-9tlwk', 'NetworkTransmitBytes'),\n            (      'adservice-76469b5944-9tlwk',        'PodLatency(s)'),\n            (      'adservice-76469b5944-9tlwk',    'PodSuccessRate(%)'),\n            (      'adservice-76469b5944-9tlwk',     'PodWorkload(Ops)'),\n            (      'adservice-76469b5944-h6cqg',          'CpuUsage(m)'),\n            (      'adservice-76469b5944-h6cqg',      'MemoryUsage(Mi)'),\n            ...\n            ('shippingservice-7499794f94-gmcld',    'PodSuccessRate(%)'),\n            ('shippingservice-7499794f94-gmcld',     'PodWorkload(Ops)'),\n            ('shippingservice-7499794f94-s67q7',          'CpuUsage(m)'),\n            ('shippingservice-7499794f94-s67q7',      'MemoryUsage(Mi)'),\n            ('shippingservice-7499794f94-s67q7',  'NetworkReceiveBytes'),\n            ('shippingservice-7499794f94-s67q7', 'NetworkTransmitBytes'),\n            ('shippingservice-7499794f94-s67q7',        'PodLatency(s)'),\n            ('shippingservice-7499794f94-s67q7',    'PodSuccessRate(%)'),\n            ('shippingservice-7499794f94-s67q7',     'PodWorkload(Ops)'),\n            (                           'label', 'Unnamed: 351_level_1')],\n           length=352)"
     },
     "execution_count": 24,
     "metadata": {},
     "output_type": "execute_result"
    }
   ],
   "execution_count": 24
  },
  {
   "cell_type": "code",
   "execution_count": null,
   "outputs": [],
   "source": [
    "from graph_lstm_vae_ad_ver6 import GraphLSTM_VAE_AD\n",
    "\n",
    "lstm = GraphLSTM_VAE_AD(variational=False)\n",
    "lstm.fit(train, 50, edge_index)"
   ],
   "metadata": {
    "colab": {
     "base_uri": "https://localhost:8080/",
     "height": 987
    },
    "id": "anzJ1ZRyc1DQ",
    "executionInfo": {
     "status": "ok",
     "timestamp": 1688470227670,
     "user_tz": -480,
     "elapsed": 672637,
     "user": {
      "displayName": "李李",
      "userId": "10255876934375316515"
     }
    },
    "outputId": "43983969-fefa-4918-9bf9-b8f24410d340"
   }
  },
  {
   "cell_type": "code",
   "execution_count": null,
   "outputs": [],
   "source": [
    "scores_sum, scores_max, outputs = lstm.predict(test, 50, edge_index, 5)"
   ],
   "metadata": {
    "colab": {
     "base_uri": "https://localhost:8080/",
     "height": 395
    },
    "id": "qSs1ZlGcc1DQ",
    "outputId": "aed09083-8b16-426a-d078-a5e1cac77e65",
    "executionInfo": {
     "status": "error",
     "timestamp": 1688471735842,
     "user_tz": -480,
     "elapsed": 2845,
     "user": {
      "displayName": "李李",
      "userId": "10255876934375316515"
     }
    }
   }
  },
  {
   "cell_type": "code",
   "execution_count": 14,
   "outputs": [
    {
     "data": {
      "text/plain": "<Figure size 350x250 with 1 Axes>",
      "image/svg+xml": "<?xml version=\"1.0\" encoding=\"utf-8\" standalone=\"no\"?>\n<!DOCTYPE svg PUBLIC \"-//W3C//DTD SVG 1.1//EN\"\n  \"http://www.w3.org/Graphics/SVG/1.1/DTD/svg11.dtd\">\n<svg xmlns:xlink=\"http://www.w3.org/1999/xlink\" width=\"230.6pt\" height=\"169.145313pt\" viewBox=\"0 0 230.6 169.145313\" xmlns=\"http://www.w3.org/2000/svg\" version=\"1.1\">\n <metadata>\n  <rdf:RDF xmlns:dc=\"http://purl.org/dc/elements/1.1/\" xmlns:cc=\"http://creativecommons.org/ns#\" xmlns:rdf=\"http://www.w3.org/1999/02/22-rdf-syntax-ns#\">\n   <cc:Work>\n    <dc:type rdf:resource=\"http://purl.org/dc/dcmitype/StillImage\"/>\n    <dc:date>2023-07-07T10:12:22.249067</dc:date>\n    <dc:format>image/svg+xml</dc:format>\n    <dc:creator>\n     <cc:Agent>\n      <dc:title>Matplotlib v3.5.1, https://matplotlib.org/</dc:title>\n     </cc:Agent>\n    </dc:creator>\n   </cc:Work>\n  </rdf:RDF>\n </metadata>\n <defs>\n  <style type=\"text/css\">*{stroke-linejoin: round; stroke-linecap: butt}</style>\n </defs>\n <g id=\"figure_1\">\n  <g id=\"patch_1\">\n   <path d=\"M 0 169.145313 \nL 230.6 169.145313 \nL 230.6 0 \nL 0 0 \nz\n\" style=\"fill: #ffffff\"/>\n  </g>\n  <g id=\"axes_1\">\n   <g id=\"patch_2\">\n    <path d=\"M 28.1 145.8 \nL 223.4 145.8 \nL 223.4 7.2 \nL 28.1 7.2 \nz\n\" style=\"fill: #eaeaf2\"/>\n   </g>\n   <g id=\"matplotlib.axis_1\">\n    <g id=\"xtick_1\">\n     <g id=\"text_1\">\n      <!-- 0 -->\n      <g style=\"fill: #262626\" transform=\"translate(32.894527 159.957813)scale(0.1 -0.1)\">\n       <defs>\n        <path id=\"ArialMT-30\" d=\"M 266 2259 \nQ 266 3072 433 3567 \nQ 600 4063 929 4331 \nQ 1259 4600 1759 4600 \nQ 2128 4600 2406 4451 \nQ 2684 4303 2865 4023 \nQ 3047 3744 3150 3342 \nQ 3253 2941 3253 2259 \nQ 3253 1453 3087 958 \nQ 2922 463 2592 192 \nQ 2263 -78 1759 -78 \nQ 1097 -78 719 397 \nQ 266 969 266 2259 \nz\nM 844 2259 \nQ 844 1131 1108 757 \nQ 1372 384 1759 384 \nQ 2147 384 2411 759 \nQ 2675 1134 2675 2259 \nQ 2675 3391 2411 3762 \nQ 2147 4134 1753 4134 \nQ 1366 4134 1134 3806 \nQ 844 3388 844 2259 \nz\n\" transform=\"scale(0.015625)\"/>\n       </defs>\n       <use xlink:href=\"#ArialMT-30\"/>\n      </g>\n     </g>\n    </g>\n    <g id=\"xtick_2\">\n     <g id=\"text_2\">\n      <!-- 200 -->\n      <g style=\"fill: #262626\" transform=\"translate(60.922923 159.957813)scale(0.1 -0.1)\">\n       <defs>\n        <path id=\"ArialMT-32\" d=\"M 3222 541 \nL 3222 0 \nL 194 0 \nQ 188 203 259 391 \nQ 375 700 629 1000 \nQ 884 1300 1366 1694 \nQ 2113 2306 2375 2664 \nQ 2638 3022 2638 3341 \nQ 2638 3675 2398 3904 \nQ 2159 4134 1775 4134 \nQ 1369 4134 1125 3890 \nQ 881 3647 878 3216 \nL 300 3275 \nQ 359 3922 746 4261 \nQ 1134 4600 1788 4600 \nQ 2447 4600 2831 4234 \nQ 3216 3869 3216 3328 \nQ 3216 3053 3103 2787 \nQ 2991 2522 2730 2228 \nQ 2469 1934 1863 1422 \nQ 1356 997 1212 845 \nQ 1069 694 975 541 \nL 3222 541 \nz\n\" transform=\"scale(0.015625)\"/>\n       </defs>\n       <use xlink:href=\"#ArialMT-32\"/>\n       <use xlink:href=\"#ArialMT-30\" x=\"55.615234\"/>\n       <use xlink:href=\"#ArialMT-30\" x=\"111.230469\"/>\n      </g>\n     </g>\n    </g>\n    <g id=\"xtick_3\">\n     <g id=\"text_3\">\n      <!-- 400 -->\n      <g style=\"fill: #262626\" transform=\"translate(94.512257 159.957813)scale(0.1 -0.1)\">\n       <defs>\n        <path id=\"ArialMT-34\" d=\"M 2069 0 \nL 2069 1097 \nL 81 1097 \nL 81 1613 \nL 2172 4581 \nL 2631 4581 \nL 2631 1613 \nL 3250 1613 \nL 3250 1097 \nL 2631 1097 \nL 2631 0 \nL 2069 0 \nz\nM 2069 1613 \nL 2069 3678 \nL 634 1613 \nL 2069 1613 \nz\n\" transform=\"scale(0.015625)\"/>\n       </defs>\n       <use xlink:href=\"#ArialMT-34\"/>\n       <use xlink:href=\"#ArialMT-30\" x=\"55.615234\"/>\n       <use xlink:href=\"#ArialMT-30\" x=\"111.230469\"/>\n      </g>\n     </g>\n    </g>\n    <g id=\"xtick_4\">\n     <g id=\"text_4\">\n      <!-- 600 -->\n      <g style=\"fill: #262626\" transform=\"translate(128.10159 159.957813)scale(0.1 -0.1)\">\n       <defs>\n        <path id=\"ArialMT-36\" d=\"M 3184 3459 \nL 2625 3416 \nQ 2550 3747 2413 3897 \nQ 2184 4138 1850 4138 \nQ 1581 4138 1378 3988 \nQ 1113 3794 959 3422 \nQ 806 3050 800 2363 \nQ 1003 2672 1297 2822 \nQ 1591 2972 1913 2972 \nQ 2475 2972 2870 2558 \nQ 3266 2144 3266 1488 \nQ 3266 1056 3080 686 \nQ 2894 316 2569 119 \nQ 2244 -78 1831 -78 \nQ 1128 -78 684 439 \nQ 241 956 241 2144 \nQ 241 3472 731 4075 \nQ 1159 4600 1884 4600 \nQ 2425 4600 2770 4297 \nQ 3116 3994 3184 3459 \nz\nM 888 1484 \nQ 888 1194 1011 928 \nQ 1134 663 1356 523 \nQ 1578 384 1822 384 \nQ 2178 384 2434 671 \nQ 2691 959 2691 1453 \nQ 2691 1928 2437 2201 \nQ 2184 2475 1800 2475 \nQ 1419 2475 1153 2201 \nQ 888 1928 888 1484 \nz\n\" transform=\"scale(0.015625)\"/>\n       </defs>\n       <use xlink:href=\"#ArialMT-36\"/>\n       <use xlink:href=\"#ArialMT-30\" x=\"55.615234\"/>\n       <use xlink:href=\"#ArialMT-30\" x=\"111.230469\"/>\n      </g>\n     </g>\n    </g>\n    <g id=\"xtick_5\">\n     <g id=\"text_5\">\n      <!-- 800 -->\n      <g style=\"fill: #262626\" transform=\"translate(161.690924 159.957813)scale(0.1 -0.1)\">\n       <defs>\n        <path id=\"ArialMT-38\" d=\"M 1131 2484 \nQ 781 2613 612 2850 \nQ 444 3088 444 3419 \nQ 444 3919 803 4259 \nQ 1163 4600 1759 4600 \nQ 2359 4600 2725 4251 \nQ 3091 3903 3091 3403 \nQ 3091 3084 2923 2848 \nQ 2756 2613 2416 2484 \nQ 2838 2347 3058 2040 \nQ 3278 1734 3278 1309 \nQ 3278 722 2862 322 \nQ 2447 -78 1769 -78 \nQ 1091 -78 675 323 \nQ 259 725 259 1325 \nQ 259 1772 486 2073 \nQ 713 2375 1131 2484 \nz\nM 1019 3438 \nQ 1019 3113 1228 2906 \nQ 1438 2700 1772 2700 \nQ 2097 2700 2305 2904 \nQ 2513 3109 2513 3406 \nQ 2513 3716 2298 3927 \nQ 2084 4138 1766 4138 \nQ 1444 4138 1231 3931 \nQ 1019 3725 1019 3438 \nz\nM 838 1322 \nQ 838 1081 952 856 \nQ 1066 631 1291 507 \nQ 1516 384 1775 384 \nQ 2178 384 2440 643 \nQ 2703 903 2703 1303 \nQ 2703 1709 2433 1975 \nQ 2163 2241 1756 2241 \nQ 1359 2241 1098 1978 \nQ 838 1716 838 1322 \nz\n\" transform=\"scale(0.015625)\"/>\n       </defs>\n       <use xlink:href=\"#ArialMT-38\"/>\n       <use xlink:href=\"#ArialMT-30\" x=\"55.615234\"/>\n       <use xlink:href=\"#ArialMT-30\" x=\"111.230469\"/>\n      </g>\n     </g>\n    </g>\n    <g id=\"xtick_6\">\n     <g id=\"text_6\">\n      <!-- 1000 -->\n      <g style=\"fill: #262626\" transform=\"translate(192.499789 159.957813)scale(0.1 -0.1)\">\n       <defs>\n        <path id=\"ArialMT-31\" d=\"M 2384 0 \nL 1822 0 \nL 1822 3584 \nQ 1619 3391 1289 3197 \nQ 959 3003 697 2906 \nL 697 3450 \nQ 1169 3672 1522 3987 \nQ 1875 4303 2022 4600 \nL 2384 4600 \nL 2384 0 \nz\n\" transform=\"scale(0.015625)\"/>\n       </defs>\n       <use xlink:href=\"#ArialMT-31\"/>\n       <use xlink:href=\"#ArialMT-30\" x=\"55.615234\"/>\n       <use xlink:href=\"#ArialMT-30\" x=\"111.230469\"/>\n       <use xlink:href=\"#ArialMT-30\" x=\"166.845703\"/>\n      </g>\n     </g>\n    </g>\n   </g>\n   <g id=\"matplotlib.axis_2\">\n    <g id=\"ytick_1\">\n     <g id=\"text_7\">\n      <!-- 0.0 -->\n      <g style=\"fill: #262626\" transform=\"translate(7.2 143.656888)scale(0.1 -0.1)\">\n       <defs>\n        <path id=\"ArialMT-2e\" d=\"M 581 0 \nL 581 641 \nL 1222 641 \nL 1222 0 \nL 581 0 \nz\n\" transform=\"scale(0.015625)\"/>\n       </defs>\n       <use xlink:href=\"#ArialMT-30\"/>\n       <use xlink:href=\"#ArialMT-2e\" x=\"55.615234\"/>\n       <use xlink:href=\"#ArialMT-30\" x=\"83.398438\"/>\n      </g>\n     </g>\n    </g>\n    <g id=\"ytick_2\">\n     <g id=\"text_8\">\n      <!-- 0.2 -->\n      <g style=\"fill: #262626\" transform=\"translate(7.2 118.341292)scale(0.1 -0.1)\">\n       <use xlink:href=\"#ArialMT-30\"/>\n       <use xlink:href=\"#ArialMT-2e\" x=\"55.615234\"/>\n       <use xlink:href=\"#ArialMT-32\" x=\"83.398438\"/>\n      </g>\n     </g>\n    </g>\n    <g id=\"ytick_3\">\n     <g id=\"text_9\">\n      <!-- 0.4 -->\n      <g style=\"fill: #262626\" transform=\"translate(7.2 93.025695)scale(0.1 -0.1)\">\n       <use xlink:href=\"#ArialMT-30\"/>\n       <use xlink:href=\"#ArialMT-2e\" x=\"55.615234\"/>\n       <use xlink:href=\"#ArialMT-34\" x=\"83.398438\"/>\n      </g>\n     </g>\n    </g>\n    <g id=\"ytick_4\">\n     <g id=\"text_10\">\n      <!-- 0.6 -->\n      <g style=\"fill: #262626\" transform=\"translate(7.2 67.710099)scale(0.1 -0.1)\">\n       <use xlink:href=\"#ArialMT-30\"/>\n       <use xlink:href=\"#ArialMT-2e\" x=\"55.615234\"/>\n       <use xlink:href=\"#ArialMT-36\" x=\"83.398438\"/>\n      </g>\n     </g>\n    </g>\n    <g id=\"ytick_5\">\n     <g id=\"text_11\">\n      <!-- 0.8 -->\n      <g style=\"fill: #262626\" transform=\"translate(7.2 42.394503)scale(0.1 -0.1)\">\n       <use xlink:href=\"#ArialMT-30\"/>\n       <use xlink:href=\"#ArialMT-2e\" x=\"55.615234\"/>\n       <use xlink:href=\"#ArialMT-38\" x=\"83.398438\"/>\n      </g>\n     </g>\n    </g>\n    <g id=\"ytick_6\">\n     <g id=\"text_12\">\n      <!-- 1.0 -->\n      <g style=\"fill: #262626\" transform=\"translate(7.2 17.078906)scale(0.1 -0.1)\">\n       <use xlink:href=\"#ArialMT-31\"/>\n       <use xlink:href=\"#ArialMT-2e\" x=\"55.615234\"/>\n       <use xlink:href=\"#ArialMT-30\" x=\"83.398438\"/>\n      </g>\n     </g>\n    </g>\n   </g>\n   <g id=\"line2d_1\">\n    <path d=\"M 36.977273 130.941338 \nL 37.537332 130.802305 \nL 37.627214 130.76099 \nL 37.561328 130.854742 \nL 37.646086 130.789078 \nL 37.748082 130.691807 \nL 37.768155 130.832759 \nL 37.868479 131.06298 \nL 37.877591 131.049858 \nL 37.975867 131.030035 \nL 37.990161 131.093519 \nL 38.021892 131.204377 \nL 38.103519 131.111251 \nL 38.115554 131.094415 \nL 38.13133 131.169407 \nL 38.20044 131.156608 \nL 38.258432 131.281803 \nL 38.313566 131.254852 \nL 38.414708 131.228768 \nL 38.426934 131.267449 \nL 38.427834 131.313007 \nL 38.520885 131.278969 \nL 39.129352 131.329503 \nL 39.133737 131.376058 \nL 39.242082 131.34154 \nL 39.471312 131.353683 \nL 39.714495 131.360771 \nL 39.71954 131.408257 \nL 39.839388 131.594892 \nL 39.839441 131.591445 \nL 39.878197 131.625706 \nL 39.889658 131.66697 \nL 39.903549 131.756604 \nL 39.996344 131.670781 \nL 40.272386 131.650186 \nL 40.290938 131.790138 \nL 40.386525 131.719574 \nL 40.416201 131.775082 \nL 40.528754 131.673069 \nL 40.530343 131.725404 \nL 40.617523 131.643249 \nL 40.637333 131.666154 \nL 40.858806 131.504497 \nL 40.859979 131.556018 \nL 40.958909 131.838817 \nL 40.979039 131.798899 \nL 41.012412 131.71789 \nL 41.045587 131.847295 \nL 41.089129 131.811922 \nL 41.089601 131.87093 \nL 41.197785 131.703866 \nL 41.324706 131.679129 \nL 41.33352 131.705895 \nL 41.388975 131.881318 \nL 41.366971 131.70199 \nL 41.440293 131.848032 \nL 41.698845 131.518554 \nL 41.726972 131.449327 \nL 41.756941 131.624748 \nL 41.764393 131.605067 \nL 41.767038 131.673852 \nL 41.870162 131.498975 \nL 42.055168 131.458254 \nL 42.056567 131.530666 \nL 42.16284 131.392032 \nL 42.894928 131.073105 \nL 43.062568 131.115953 \nL 43.850986 130.930915 \nL 44.978285 130.735107 \nL 44.979161 130.728472 \nL 44.982322 130.81179 \nL 45.024469 130.778743 \nL 45.493408 130.64015 \nL 45.589435 130.591608 \nL 45.589665 130.677705 \nL 45.900144 130.726325 \nL 46.023644 131.023081 \nL 46.029273 131.016257 \nL 46.455781 130.753271 \nL 46.544655 130.657293 \nL 46.558019 130.74273 \nL 46.648337 131.036697 \nL 46.669388 131.007579 \nL 46.894209 131.006907 \nL 46.901366 131.10378 \nL 47.005125 131.00656 \nL 47.034187 130.983824 \nL 47.040732 131.082055 \nL 47.042354 131.074527 \nL 47.070855 131.264246 \nL 47.161086 131.18968 \nL 47.250286 131.113841 \nL 47.53319 131.107888 \nL 47.545299 131.314037 \nL 47.622525 131.283205 \nL 48.152327 131.118742 \nL 48.171185 131.225571 \nL 48.347102 131.516034 \nL 48.511408 131.452963 \nL 48.630799 131.545948 \nL 48.703308 131.63945 \nL 49.300494 131.447665 \nL 49.893321 131.177967 \nL 49.914688 131.293 \nL 50.020336 131.258515 \nL 50.056405 131.215026 \nL 50.072434 131.331231 \nL 50.10804 131.296556 \nL 50.234005 131.673407 \nL 50.247221 131.630917 \nL 50.521484 131.43874 \nL 50.55882 131.402855 \nL 50.592142 131.612996 \nL 50.5996 131.604142 \nL 50.947588 131.396748 \nL 50.960613 131.51783 \nL 50.97327 131.770862 \nL 51.048552 131.648974 \nL 51.080614 131.629904 \nL 51.155572 131.986239 \nL 51.21476 131.921058 \nL 51.241996 131.864347 \nL 51.242072 132.00166 \nL 51.242375 131.99228 \nL 51.259978 132.397637 \nL 51.354084 132.195281 \nL 51.455414 132.041284 \nL 51.46819 132.166858 \nL 51.531275 132.558498 \nL 51.581875 132.473798 \nL 51.591655 132.464268 \nL 51.693811 132.679523 \nL 51.71951 132.622684 \nL 51.775411 132.593936 \nL 51.781801 132.747211 \nL 51.885785 132.651633 \nL 51.985153 132.523593 \nL 52.007166 132.671823 \nL 52.015254 132.830507 \nL 52.117519 132.722775 \nL 52.240689 132.570598 \nL 52.31013 132.880066 \nL 52.369615 132.809498 \nL 52.434162 132.727136 \nL 52.526727 133.02578 \nL 52.581581 132.954545 \nL 52.599282 132.933928 \nL 52.638497 133.280615 \nL 52.711246 133.210848 \nL 52.814148 133.149897 \nL 52.883957 133.475553 \nL 52.924531 133.445902 \nL 53.077588 133.355327 \nL 53.18602 133.681238 \nL 53.207393 133.651715 \nL 53.250101 133.631881 \nL 53.253373 133.817556 \nL 53.343239 133.719276 \nL 53.562888 133.607542 \nL 53.605076 133.799714 \nL 53.684288 133.759274 \nL 53.865121 133.697628 \nL 53.895575 133.89339 \nL 53.987351 133.801388 \nL 54.707821 133.392525 \nL 54.735936 133.603976 \nL 54.825885 133.557979 \nL 55.203671 133.354975 \nL 55.247644 133.574893 \nL 55.355063 133.55094 \nL 55.412797 133.502502 \nL 55.427886 133.725555 \nL 56.221101 133.310446 \nL 56.222161 133.548165 \nL 56.322266 133.509064 \nL 56.591343 133.361599 \nL 57.530918 133.075795 \nL 57.573786 133.330754 \nL 57.629277 133.301858 \nL 59.939261 133.03021 \nL 61.348257 132.82007 \nL 61.545348 133.078278 \nL 62.251059 132.91319 \nL 62.543889 132.896252 \nL 62.7584 133.14633 \nL 63.955026 132.799748 \nL 64.085471 132.72623 \nL 64.212573 132.651212 \nL 64.912911 132.436791 \nL 65.087004 132.355718 \nL 65.094176 132.671823 \nL 65.201296 132.592187 \nL 66.126779 131.982878 \nL 66.289998 131.839178 \nL 66.377174 131.790138 \nL 66.40147 132.143243 \nL 66.471227 132.095586 \nL 67.515743 131.391257 \nL 67.613562 131.30525 \nL 68.122583 131.036697 \nL 68.20866 130.848337 \nL 68.299132 130.685269 \nL 68.372183 131.457976 \nL 68.393646 131.36428 \nL 68.473699 131.137529 \nL 68.484961 131.576475 \nL 68.571874 131.480232 \nL 68.676374 131.24696 \nL 68.744562 130.927766 \nL 68.854915 130.701835 \nL 68.978358 132.236868 \nL 68.984698 132.131382 \nL 69.110612 131.758302 \nL 69.117773 132.316124 \nL 69.216841 131.931874 \nL 69.600806 130.885167 \nL 69.605671 131.544635 \nL 69.679364 130.982558 \nL 69.753369 130.759357 \nL 69.919672 130.084983 \nL 69.970452 129.814902 \nL 70.01225 129.456053 \nL 70.038128 130.272645 \nL 70.062325 130.061019 \nL 70.148865 129.529817 \nL 70.184923 131.177967 \nL 70.25967 130.89087 \nL 70.517738 129.22844 \nL 70.546406 128.909336 \nL 70.551096 130.052003 \nL 70.622729 129.305387 \nL 70.651711 130.550607 \nL 70.74866 130.12241 \nL 70.789661 130.009279 \nL 70.929571 133.502502 \nL 71.047215 133.045872 \nL 71.158753 132.844954 \nL 71.256773 132.166858 \nL 71.640122 130.87231 \nL 71.884931 130.701835 \nL 71.919477 130.524926 \nL 72.233392 130.341214 \nL 72.402232 132.632218 \nL 72.903703 132.483303 \nL 74.679123 132.166858 \nL 74.691702 131.998536 \nL 75.189431 131.822896 \nL 75.242945 131.63945 \nL 75.971925 131.447665 \nL 76.091988 131.036697 \nL 83.649325 130.816178 \nL 84.667979 130.584633 \nL 92.688051 130.084983 \nL 93.460736 133.235929 \nL 93.891722 133.045872 \nL 98.326237 132.632218 \nL 98.559148 132.406589 \nL 98.638744 131.91166 \nL 99.346355 131.348466 \nL 100.077962 130.341214 \nL 100.989159 129.951743 \nL 102.722 129.529817 \nL 105.436505 129.071201 \nL 107.338359 128.570892 \nL 108.357873 128.022936 \nL 108.607032 127.420183 \nL 109.054147 126.753984 \nL 112.119153 125.186454 \nL 113.930073 124.255734 \nL 117.031027 123.200917 \nL 117.68953 121.995413 \nL 118.744847 120.604446 \nL 127.311233 118.981651 \nL 127.791217 128.570892 \nL 128.778107 127.420183 \nL 129.462867 126.013761 \nL 129.536862 124.255734 \nL 130.326905 121.995413 \nL 130.377541 118.981651 \nL 132.745884 114.762385 \nL 132.877014 108.433486 \nL 134.112265 97.885321 \nL 147.357017 76.788991 \nL 214.522727 13.5 \nL 214.522727 13.5 \n\" clip-path=\"url(#pcbebfd36ab)\" style=\"fill: none; stroke: #1f77b4; stroke-width: 1.5; stroke-linecap: round\"/>\n   </g>\n   <g id=\"line2d_2\">\n    <path d=\"M 36.977273 13.5 \nL 37.171087 13.5 \nL 37.285847 14.655963 \nL 37.324693 14.655963 \nL 37.451637 16.96789 \nL 37.473469 16.96789 \nL 37.583679 18.701835 \nL 37.627214 18.701835 \nL 37.741863 19.857798 \nL 37.748082 19.857798 \nL 37.904287 27.37156 \nL 37.932701 27.37156 \nL 38.0677 30.83945 \nL 38.115554 30.83945 \nL 38.235686 34.307339 \nL 38.256891 34.307339 \nL 38.362748 35.463303 \nL 38.414708 35.463303 \nL 38.520885 36.619266 \nL 38.640931 36.619266 \nL 38.794684 37.775229 \nL 38.815879 37.775229 \nL 38.932875 38.353211 \nL 39.108581 38.353211 \nL 39.226655 39.509174 \nL 39.42481 39.509174 \nL 39.580242 40.087156 \nL 39.655347 40.087156 \nL 39.917663 47.022936 \nL 40.018742 47.022936 \nL 40.135767 47.600917 \nL 40.158272 47.600917 \nL 40.272386 49.334862 \nL 40.389227 51.646789 \nL 40.396919 51.646789 \nL 40.505466 53.380734 \nL 40.528754 53.380734 \nL 40.643478 55.114679 \nL 40.686482 55.114679 \nL 40.806942 56.848624 \nL 40.858806 56.848624 \nL 40.97204 62.050459 \nL 41.012412 62.050459 \nL 41.122647 64.940367 \nL 41.240498 64.940367 \nL 41.355183 67.830275 \nL 41.366971 67.830275 \nL 41.553808 71.298165 \nL 41.566657 71.298165 \nL 41.673102 71.876147 \nL 41.726972 71.876147 \nL 41.837316 74.188073 \nL 41.958208 74.188073 \nL 42.07747 76.5 \nL 42.2044 76.5 \nL 42.314479 77.077982 \nL 42.487671 77.077982 \nL 42.592962 77.655963 \nL 42.825061 77.655963 \nL 42.894928 78.811927 \nL 43.062568 79.389908 \nL 44.070491 79.389908 \nL 44.143284 79.96789 \nL 44.979161 79.96789 \nL 45.024469 80.545872 \nL 45.247445 80.545872 \nL 45.355958 81.123853 \nL 45.589435 81.123853 \nL 45.667892 81.701835 \nL 45.701819 81.701835 \nL 45.811427 82.279817 \nL 45.881383 82.279817 \nL 46.023644 85.169725 \nL 46.158966 85.169725 \nL 46.270313 85.747706 \nL 46.544655 85.747706 \nL 46.70783 88.637615 \nL 46.801734 88.637615 \nL 46.936832 90.37156 \nL 47.034187 90.37156 \nL 47.161321 92.105505 \nL 47.322514 92.105505 \nL 47.44134 93.261468 \nL 47.53319 93.261468 \nL 47.657082 94.417431 \nL 47.939778 94.417431 \nL 48.04961 94.995413 \nL 48.152327 94.995413 \nL 48.310363 97.307339 \nL 48.511408 97.307339 \nL 48.630799 97.885321 \nL 48.668402 97.885321 \nL 48.794282 98.463303 \nL 49.893321 98.463303 \nL 50.022265 99.041284 \nL 50.056405 99.041284 \nL 50.247221 101.931193 \nL 50.55882 101.931193 \nL 50.666312 103.087156 \nL 50.684032 103.087156 \nL 50.794167 103.665138 \nL 50.862507 103.665138 \nL 50.97327 105.977064 \nL 51.080614 105.977064 \nL 51.22805 107.711009 \nL 51.241996 107.711009 \nL 51.35212 110.022936 \nL 51.455414 110.022936 \nL 51.581875 112.334862 \nL 51.591655 112.334862 \nL 51.71951 113.490826 \nL 51.775411 113.490826 \nL 51.885785 114.068807 \nL 51.985153 114.068807 \nL 52.125973 115.224771 \nL 52.240689 115.224771 \nL 52.377276 116.380734 \nL 52.434162 116.380734 \nL 52.653259 118.692661 \nL 52.814148 118.692661 \nL 52.924531 119.848624 \nL 53.077588 119.848624 \nL 53.207393 121.004587 \nL 53.250101 121.004587 \nL 53.343239 121.582569 \nL 53.562888 121.582569 \nL 53.684288 122.16055 \nL 53.865121 122.16055 \nL 54.00618 122.738532 \nL 54.707821 122.738532 \nL 54.845865 123.316514 \nL 55.203671 123.316514 \nL 55.356823 123.894495 \nL 55.412797 123.894495 \nL 55.520868 124.472477 \nL 56.221101 124.472477 \nL 56.322266 125.050459 \nL 57.530918 125.050459 \nL 57.629277 125.62844 \nL 61.348257 125.62844 \nL 61.545348 126.206422 \nL 62.543889 126.206422 \nL 62.7584 126.784404 \nL 65.087004 126.784404 \nL 65.201296 127.362385 \nL 66.377174 127.362385 \nL 66.471227 127.940367 \nL 68.299132 127.940367 \nL 68.418291 129.09633 \nL 68.473699 129.09633 \nL 68.571874 129.674312 \nL 68.854915 129.674312 \nL 68.991051 131.986239 \nL 69.110612 131.986239 \nL 69.216841 132.56422 \nL 69.600806 132.56422 \nL 69.679364 133.142202 \nL 70.01225 133.142202 \nL 70.169623 134.298165 \nL 70.177754 134.298165 \nL 70.279449 134.876147 \nL 70.546406 134.876147 \nL 70.651711 136.03211 \nL 70.789661 136.03211 \nL 70.929571 137.766055 \nL 72.233392 137.766055 \nL 72.402232 138.344037 \nL 92.688051 138.344037 \nL 93.460736 138.922018 \nL 127.311233 138.922018 \nL 127.791217 139.5 \nL 214.522727 139.5 \nL 214.522727 139.5 \n\" clip-path=\"url(#pcbebfd36ab)\" style=\"fill: none; stroke-dasharray: 5.55,2.4; stroke-dashoffset: 0; stroke: #bf00bf; stroke-width: 1.5\"/>\n   </g>\n   <g id=\"patch_3\">\n    <path d=\"M 28.1 145.8 \nL 28.1 7.2 \n\" style=\"fill: none; stroke: #ffffff; stroke-width: 0.8; stroke-linejoin: miter; stroke-linecap: square\"/>\n   </g>\n   <g id=\"patch_4\">\n    <path d=\"M 223.4 145.8 \nL 223.4 7.2 \n\" style=\"fill: none; stroke: #ffffff; stroke-width: 0.8; stroke-linejoin: miter; stroke-linecap: square\"/>\n   </g>\n   <g id=\"patch_5\">\n    <path d=\"M 28.1 145.8 \nL 223.4 145.8 \n\" style=\"fill: none; stroke: #ffffff; stroke-width: 0.8; stroke-linejoin: miter; stroke-linecap: square\"/>\n   </g>\n   <g id=\"patch_6\">\n    <path d=\"M 28.1 7.2 \nL 223.4 7.2 \n\" style=\"fill: none; stroke: #ffffff; stroke-width: 0.8; stroke-linejoin: miter; stroke-linecap: square\"/>\n   </g>\n   <g id=\"legend_1\">\n    <g id=\"patch_7\">\n     <path d=\"M 87.241406 43.490625 \nL 164.258594 43.490625 \nQ 166.258594 43.490625 166.258594 41.490625 \nL 166.258594 14.2 \nQ 166.258594 12.2 164.258594 12.2 \nL 87.241406 12.2 \nQ 85.241406 12.2 85.241406 14.2 \nL 85.241406 41.490625 \nQ 85.241406 43.490625 87.241406 43.490625 \nz\n\" style=\"fill: #eaeaf2; opacity: 0.8; stroke: #cccccc; stroke-linejoin: miter\"/>\n    </g>\n    <g id=\"line2d_3\">\n     <path d=\"M 89.241406 19.857813 \nL 99.241406 19.857813 \nL 109.241406 19.857813 \n\" style=\"fill: none; stroke: #1f77b4; stroke-width: 1.5; stroke-linecap: round\"/>\n    </g>\n    <g id=\"text_13\">\n     <!-- precisions -->\n     <g style=\"fill: #262626\" transform=\"translate(117.241406 23.357813)scale(0.1 -0.1)\">\n      <defs>\n       <path id=\"ArialMT-70\" d=\"M 422 -1272 \nL 422 3319 \nL 934 3319 \nL 934 2888 \nQ 1116 3141 1344 3267 \nQ 1572 3394 1897 3394 \nQ 2322 3394 2647 3175 \nQ 2972 2956 3137 2557 \nQ 3303 2159 3303 1684 \nQ 3303 1175 3120 767 \nQ 2938 359 2589 142 \nQ 2241 -75 1856 -75 \nQ 1575 -75 1351 44 \nQ 1128 163 984 344 \nL 984 -1272 \nL 422 -1272 \nz\nM 931 1641 \nQ 931 1000 1190 694 \nQ 1450 388 1819 388 \nQ 2194 388 2461 705 \nQ 2728 1022 2728 1688 \nQ 2728 2322 2467 2637 \nQ 2206 2953 1844 2953 \nQ 1484 2953 1207 2617 \nQ 931 2281 931 1641 \nz\n\" transform=\"scale(0.015625)\"/>\n       <path id=\"ArialMT-72\" d=\"M 416 0 \nL 416 3319 \nL 922 3319 \nL 922 2816 \nQ 1116 3169 1280 3281 \nQ 1444 3394 1641 3394 \nQ 1925 3394 2219 3213 \nL 2025 2691 \nQ 1819 2813 1613 2813 \nQ 1428 2813 1281 2702 \nQ 1134 2591 1072 2394 \nQ 978 2094 978 1738 \nL 978 0 \nL 416 0 \nz\n\" transform=\"scale(0.015625)\"/>\n       <path id=\"ArialMT-65\" d=\"M 2694 1069 \nL 3275 997 \nQ 3138 488 2766 206 \nQ 2394 -75 1816 -75 \nQ 1088 -75 661 373 \nQ 234 822 234 1631 \nQ 234 2469 665 2931 \nQ 1097 3394 1784 3394 \nQ 2450 3394 2872 2941 \nQ 3294 2488 3294 1666 \nQ 3294 1616 3291 1516 \nL 816 1516 \nQ 847 969 1125 678 \nQ 1403 388 1819 388 \nQ 2128 388 2347 550 \nQ 2566 713 2694 1069 \nz\nM 847 1978 \nL 2700 1978 \nQ 2663 2397 2488 2606 \nQ 2219 2931 1791 2931 \nQ 1403 2931 1139 2672 \nQ 875 2413 847 1978 \nz\n\" transform=\"scale(0.015625)\"/>\n       <path id=\"ArialMT-63\" d=\"M 2588 1216 \nL 3141 1144 \nQ 3050 572 2676 248 \nQ 2303 -75 1759 -75 \nQ 1078 -75 664 370 \nQ 250 816 250 1647 \nQ 250 2184 428 2587 \nQ 606 2991 970 3192 \nQ 1334 3394 1763 3394 \nQ 2303 3394 2647 3120 \nQ 2991 2847 3088 2344 \nL 2541 2259 \nQ 2463 2594 2264 2762 \nQ 2066 2931 1784 2931 \nQ 1359 2931 1093 2626 \nQ 828 2322 828 1663 \nQ 828 994 1084 691 \nQ 1341 388 1753 388 \nQ 2084 388 2306 591 \nQ 2528 794 2588 1216 \nz\n\" transform=\"scale(0.015625)\"/>\n       <path id=\"ArialMT-69\" d=\"M 425 3934 \nL 425 4581 \nL 988 4581 \nL 988 3934 \nL 425 3934 \nz\nM 425 0 \nL 425 3319 \nL 988 3319 \nL 988 0 \nL 425 0 \nz\n\" transform=\"scale(0.015625)\"/>\n       <path id=\"ArialMT-73\" d=\"M 197 991 \nL 753 1078 \nQ 800 744 1014 566 \nQ 1228 388 1613 388 \nQ 2000 388 2187 545 \nQ 2375 703 2375 916 \nQ 2375 1106 2209 1216 \nQ 2094 1291 1634 1406 \nQ 1016 1563 777 1677 \nQ 538 1791 414 1992 \nQ 291 2194 291 2438 \nQ 291 2659 392 2848 \nQ 494 3038 669 3163 \nQ 800 3259 1026 3326 \nQ 1253 3394 1513 3394 \nQ 1903 3394 2198 3281 \nQ 2494 3169 2634 2976 \nQ 2775 2784 2828 2463 \nL 2278 2388 \nQ 2241 2644 2061 2787 \nQ 1881 2931 1553 2931 \nQ 1166 2931 1000 2803 \nQ 834 2675 834 2503 \nQ 834 2394 903 2306 \nQ 972 2216 1119 2156 \nQ 1203 2125 1616 2013 \nQ 2213 1853 2448 1751 \nQ 2684 1650 2818 1456 \nQ 2953 1263 2953 975 \nQ 2953 694 2789 445 \nQ 2625 197 2315 61 \nQ 2006 -75 1616 -75 \nQ 969 -75 630 194 \nQ 291 463 197 991 \nz\n\" transform=\"scale(0.015625)\"/>\n       <path id=\"ArialMT-6f\" d=\"M 213 1659 \nQ 213 2581 725 3025 \nQ 1153 3394 1769 3394 \nQ 2453 3394 2887 2945 \nQ 3322 2497 3322 1706 \nQ 3322 1066 3130 698 \nQ 2938 331 2570 128 \nQ 2203 -75 1769 -75 \nQ 1072 -75 642 372 \nQ 213 819 213 1659 \nz\nM 791 1659 \nQ 791 1022 1069 705 \nQ 1347 388 1769 388 \nQ 2188 388 2466 706 \nQ 2744 1025 2744 1678 \nQ 2744 2294 2464 2611 \nQ 2184 2928 1769 2928 \nQ 1347 2928 1069 2612 \nQ 791 2297 791 1659 \nz\n\" transform=\"scale(0.015625)\"/>\n       <path id=\"ArialMT-6e\" d=\"M 422 0 \nL 422 3319 \nL 928 3319 \nL 928 2847 \nQ 1294 3394 1984 3394 \nQ 2284 3394 2536 3286 \nQ 2788 3178 2913 3003 \nQ 3038 2828 3088 2588 \nQ 3119 2431 3119 2041 \nL 3119 0 \nL 2556 0 \nL 2556 2019 \nQ 2556 2363 2490 2533 \nQ 2425 2703 2258 2804 \nQ 2091 2906 1866 2906 \nQ 1506 2906 1245 2678 \nQ 984 2450 984 1813 \nL 984 0 \nL 422 0 \nz\n\" transform=\"scale(0.015625)\"/>\n      </defs>\n      <use xlink:href=\"#ArialMT-70\"/>\n      <use xlink:href=\"#ArialMT-72\" x=\"55.615234\"/>\n      <use xlink:href=\"#ArialMT-65\" x=\"88.916016\"/>\n      <use xlink:href=\"#ArialMT-63\" x=\"144.53125\"/>\n      <use xlink:href=\"#ArialMT-69\" x=\"194.53125\"/>\n      <use xlink:href=\"#ArialMT-73\" x=\"216.748047\"/>\n      <use xlink:href=\"#ArialMT-69\" x=\"266.748047\"/>\n      <use xlink:href=\"#ArialMT-6f\" x=\"288.964844\"/>\n      <use xlink:href=\"#ArialMT-6e\" x=\"344.580078\"/>\n      <use xlink:href=\"#ArialMT-73\" x=\"400.195312\"/>\n     </g>\n    </g>\n    <g id=\"line2d_4\">\n     <path d=\"M 89.241406 34.003125 \nL 99.241406 34.003125 \nL 109.241406 34.003125 \n\" style=\"fill: none; stroke-dasharray: 5.55,2.4; stroke-dashoffset: 0; stroke: #bf00bf; stroke-width: 1.5\"/>\n    </g>\n    <g id=\"text_14\">\n     <!-- recalls -->\n     <g style=\"fill: #262626\" transform=\"translate(117.241406 37.503125)scale(0.1 -0.1)\">\n      <defs>\n       <path id=\"ArialMT-61\" d=\"M 2588 409 \nQ 2275 144 1986 34 \nQ 1697 -75 1366 -75 \nQ 819 -75 525 192 \nQ 231 459 231 875 \nQ 231 1119 342 1320 \nQ 453 1522 633 1644 \nQ 813 1766 1038 1828 \nQ 1203 1872 1538 1913 \nQ 2219 1994 2541 2106 \nQ 2544 2222 2544 2253 \nQ 2544 2597 2384 2738 \nQ 2169 2928 1744 2928 \nQ 1347 2928 1158 2789 \nQ 969 2650 878 2297 \nL 328 2372 \nQ 403 2725 575 2942 \nQ 747 3159 1072 3276 \nQ 1397 3394 1825 3394 \nQ 2250 3394 2515 3294 \nQ 2781 3194 2906 3042 \nQ 3031 2891 3081 2659 \nQ 3109 2516 3109 2141 \nL 3109 1391 \nQ 3109 606 3145 398 \nQ 3181 191 3288 0 \nL 2700 0 \nQ 2613 175 2588 409 \nz\nM 2541 1666 \nQ 2234 1541 1622 1453 \nQ 1275 1403 1131 1340 \nQ 988 1278 909 1158 \nQ 831 1038 831 891 \nQ 831 666 1001 516 \nQ 1172 366 1500 366 \nQ 1825 366 2078 508 \nQ 2331 650 2450 897 \nQ 2541 1088 2541 1459 \nL 2541 1666 \nz\n\" transform=\"scale(0.015625)\"/>\n       <path id=\"ArialMT-6c\" d=\"M 409 0 \nL 409 4581 \nL 972 4581 \nL 972 0 \nL 409 0 \nz\n\" transform=\"scale(0.015625)\"/>\n      </defs>\n      <use xlink:href=\"#ArialMT-72\"/>\n      <use xlink:href=\"#ArialMT-65\" x=\"33.300781\"/>\n      <use xlink:href=\"#ArialMT-63\" x=\"88.916016\"/>\n      <use xlink:href=\"#ArialMT-61\" x=\"138.916016\"/>\n      <use xlink:href=\"#ArialMT-6c\" x=\"194.53125\"/>\n      <use xlink:href=\"#ArialMT-6c\" x=\"216.748047\"/>\n      <use xlink:href=\"#ArialMT-73\" x=\"238.964844\"/>\n     </g>\n    </g>\n   </g>\n  </g>\n </g>\n <defs>\n  <clipPath id=\"pcbebfd36ab\">\n   <rect x=\"28.1\" y=\"7.2\" width=\"195.3\" height=\"138.6\"/>\n  </clipPath>\n </defs>\n</svg>\n"
     },
     "metadata": {},
     "output_type": "display_data"
    }
   ],
   "source": [
    "from sklearn.metrics import precision_recall_curve\n",
    "\n",
    "df = pd.read_csv('DatasetUpdate/MMS (1).csv', header=[0, 1])\n",
    "test_label = df[3059: 3059 + 1286]['label'].to_numpy()\n",
    "precisions, recalls, thresholds = precision_recall_curve(test_label, scores_sum)"
   ],
   "metadata": {
    "collapsed": false,
    "ExecuteTime": {
     "end_time": "2023-07-07T02:12:22.299078600Z",
     "start_time": "2023-07-07T02:12:21.737646200Z"
    }
   }
  },
  {
   "cell_type": "code",
   "execution_count": null,
   "outputs": [],
   "source": [
    "d2l.plot(thresholds, [precisions[:-1], recalls[:-1]], legend=['precisions', 'recalls'])"
   ],
   "metadata": {
    "collapsed": false
   }
  },
  {
   "cell_type": "code",
   "execution_count": 19,
   "outputs": [
    {
     "data": {
      "text/plain": "<Figure size 350x250 with 1 Axes>",
      "image/svg+xml": "<?xml version=\"1.0\" encoding=\"utf-8\" standalone=\"no\"?>\n<!DOCTYPE svg PUBLIC \"-//W3C//DTD SVG 1.1//EN\"\n  \"http://www.w3.org/Graphics/SVG/1.1/DTD/svg11.dtd\">\n<svg xmlns:xlink=\"http://www.w3.org/1999/xlink\" width=\"230.6pt\" height=\"169.145313pt\" viewBox=\"0 0 230.6 169.145313\" xmlns=\"http://www.w3.org/2000/svg\" version=\"1.1\">\n <metadata>\n  <rdf:RDF xmlns:dc=\"http://purl.org/dc/elements/1.1/\" xmlns:cc=\"http://creativecommons.org/ns#\" xmlns:rdf=\"http://www.w3.org/1999/02/22-rdf-syntax-ns#\">\n   <cc:Work>\n    <dc:type rdf:resource=\"http://purl.org/dc/dcmitype/StillImage\"/>\n    <dc:date>2023-07-07T10:20:29.564642</dc:date>\n    <dc:format>image/svg+xml</dc:format>\n    <dc:creator>\n     <cc:Agent>\n      <dc:title>Matplotlib v3.5.1, https://matplotlib.org/</dc:title>\n     </cc:Agent>\n    </dc:creator>\n   </cc:Work>\n  </rdf:RDF>\n </metadata>\n <defs>\n  <style type=\"text/css\">*{stroke-linejoin: round; stroke-linecap: butt}</style>\n </defs>\n <g id=\"figure_1\">\n  <g id=\"patch_1\">\n   <path d=\"M 0 169.145313 \nL 230.6 169.145313 \nL 230.6 0 \nL 0 0 \nz\n\" style=\"fill: #ffffff\"/>\n  </g>\n  <g id=\"axes_1\">\n   <g id=\"patch_2\">\n    <path d=\"M 28.1 145.8 \nL 223.4 145.8 \nL 223.4 7.2 \nL 28.1 7.2 \nz\n\" style=\"fill: #eaeaf2\"/>\n   </g>\n   <g id=\"matplotlib.axis_1\">\n    <g id=\"xtick_1\">\n     <g id=\"text_1\">\n      <!-- 0 -->\n      <g style=\"fill: #262626\" transform=\"translate(32.894527 159.957813)scale(0.1 -0.1)\">\n       <defs>\n        <path id=\"ArialMT-30\" d=\"M 266 2259 \nQ 266 3072 433 3567 \nQ 600 4063 929 4331 \nQ 1259 4600 1759 4600 \nQ 2128 4600 2406 4451 \nQ 2684 4303 2865 4023 \nQ 3047 3744 3150 3342 \nQ 3253 2941 3253 2259 \nQ 3253 1453 3087 958 \nQ 2922 463 2592 192 \nQ 2263 -78 1759 -78 \nQ 1097 -78 719 397 \nQ 266 969 266 2259 \nz\nM 844 2259 \nQ 844 1131 1108 757 \nQ 1372 384 1759 384 \nQ 2147 384 2411 759 \nQ 2675 1134 2675 2259 \nQ 2675 3391 2411 3762 \nQ 2147 4134 1753 4134 \nQ 1366 4134 1134 3806 \nQ 844 3388 844 2259 \nz\n\" transform=\"scale(0.015625)\"/>\n       </defs>\n       <use xlink:href=\"#ArialMT-30\"/>\n      </g>\n     </g>\n    </g>\n    <g id=\"xtick_2\">\n     <g id=\"text_2\">\n      <!-- 200 -->\n      <g style=\"fill: #262626\" transform=\"translate(60.922923 159.957813)scale(0.1 -0.1)\">\n       <defs>\n        <path id=\"ArialMT-32\" d=\"M 3222 541 \nL 3222 0 \nL 194 0 \nQ 188 203 259 391 \nQ 375 700 629 1000 \nQ 884 1300 1366 1694 \nQ 2113 2306 2375 2664 \nQ 2638 3022 2638 3341 \nQ 2638 3675 2398 3904 \nQ 2159 4134 1775 4134 \nQ 1369 4134 1125 3890 \nQ 881 3647 878 3216 \nL 300 3275 \nQ 359 3922 746 4261 \nQ 1134 4600 1788 4600 \nQ 2447 4600 2831 4234 \nQ 3216 3869 3216 3328 \nQ 3216 3053 3103 2787 \nQ 2991 2522 2730 2228 \nQ 2469 1934 1863 1422 \nQ 1356 997 1212 845 \nQ 1069 694 975 541 \nL 3222 541 \nz\n\" transform=\"scale(0.015625)\"/>\n       </defs>\n       <use xlink:href=\"#ArialMT-32\"/>\n       <use xlink:href=\"#ArialMT-30\" x=\"55.615234\"/>\n       <use xlink:href=\"#ArialMT-30\" x=\"111.230469\"/>\n      </g>\n     </g>\n    </g>\n    <g id=\"xtick_3\">\n     <g id=\"text_3\">\n      <!-- 400 -->\n      <g style=\"fill: #262626\" transform=\"translate(94.512257 159.957813)scale(0.1 -0.1)\">\n       <defs>\n        <path id=\"ArialMT-34\" d=\"M 2069 0 \nL 2069 1097 \nL 81 1097 \nL 81 1613 \nL 2172 4581 \nL 2631 4581 \nL 2631 1613 \nL 3250 1613 \nL 3250 1097 \nL 2631 1097 \nL 2631 0 \nL 2069 0 \nz\nM 2069 1613 \nL 2069 3678 \nL 634 1613 \nL 2069 1613 \nz\n\" transform=\"scale(0.015625)\"/>\n       </defs>\n       <use xlink:href=\"#ArialMT-34\"/>\n       <use xlink:href=\"#ArialMT-30\" x=\"55.615234\"/>\n       <use xlink:href=\"#ArialMT-30\" x=\"111.230469\"/>\n      </g>\n     </g>\n    </g>\n    <g id=\"xtick_4\">\n     <g id=\"text_4\">\n      <!-- 600 -->\n      <g style=\"fill: #262626\" transform=\"translate(128.10159 159.957813)scale(0.1 -0.1)\">\n       <defs>\n        <path id=\"ArialMT-36\" d=\"M 3184 3459 \nL 2625 3416 \nQ 2550 3747 2413 3897 \nQ 2184 4138 1850 4138 \nQ 1581 4138 1378 3988 \nQ 1113 3794 959 3422 \nQ 806 3050 800 2363 \nQ 1003 2672 1297 2822 \nQ 1591 2972 1913 2972 \nQ 2475 2972 2870 2558 \nQ 3266 2144 3266 1488 \nQ 3266 1056 3080 686 \nQ 2894 316 2569 119 \nQ 2244 -78 1831 -78 \nQ 1128 -78 684 439 \nQ 241 956 241 2144 \nQ 241 3472 731 4075 \nQ 1159 4600 1884 4600 \nQ 2425 4600 2770 4297 \nQ 3116 3994 3184 3459 \nz\nM 888 1484 \nQ 888 1194 1011 928 \nQ 1134 663 1356 523 \nQ 1578 384 1822 384 \nQ 2178 384 2434 671 \nQ 2691 959 2691 1453 \nQ 2691 1928 2437 2201 \nQ 2184 2475 1800 2475 \nQ 1419 2475 1153 2201 \nQ 888 1928 888 1484 \nz\n\" transform=\"scale(0.015625)\"/>\n       </defs>\n       <use xlink:href=\"#ArialMT-36\"/>\n       <use xlink:href=\"#ArialMT-30\" x=\"55.615234\"/>\n       <use xlink:href=\"#ArialMT-30\" x=\"111.230469\"/>\n      </g>\n     </g>\n    </g>\n    <g id=\"xtick_5\">\n     <g id=\"text_5\">\n      <!-- 800 -->\n      <g style=\"fill: #262626\" transform=\"translate(161.690924 159.957813)scale(0.1 -0.1)\">\n       <defs>\n        <path id=\"ArialMT-38\" d=\"M 1131 2484 \nQ 781 2613 612 2850 \nQ 444 3088 444 3419 \nQ 444 3919 803 4259 \nQ 1163 4600 1759 4600 \nQ 2359 4600 2725 4251 \nQ 3091 3903 3091 3403 \nQ 3091 3084 2923 2848 \nQ 2756 2613 2416 2484 \nQ 2838 2347 3058 2040 \nQ 3278 1734 3278 1309 \nQ 3278 722 2862 322 \nQ 2447 -78 1769 -78 \nQ 1091 -78 675 323 \nQ 259 725 259 1325 \nQ 259 1772 486 2073 \nQ 713 2375 1131 2484 \nz\nM 1019 3438 \nQ 1019 3113 1228 2906 \nQ 1438 2700 1772 2700 \nQ 2097 2700 2305 2904 \nQ 2513 3109 2513 3406 \nQ 2513 3716 2298 3927 \nQ 2084 4138 1766 4138 \nQ 1444 4138 1231 3931 \nQ 1019 3725 1019 3438 \nz\nM 838 1322 \nQ 838 1081 952 856 \nQ 1066 631 1291 507 \nQ 1516 384 1775 384 \nQ 2178 384 2440 643 \nQ 2703 903 2703 1303 \nQ 2703 1709 2433 1975 \nQ 2163 2241 1756 2241 \nQ 1359 2241 1098 1978 \nQ 838 1716 838 1322 \nz\n\" transform=\"scale(0.015625)\"/>\n       </defs>\n       <use xlink:href=\"#ArialMT-38\"/>\n       <use xlink:href=\"#ArialMT-30\" x=\"55.615234\"/>\n       <use xlink:href=\"#ArialMT-30\" x=\"111.230469\"/>\n      </g>\n     </g>\n    </g>\n    <g id=\"xtick_6\">\n     <g id=\"text_6\">\n      <!-- 1000 -->\n      <g style=\"fill: #262626\" transform=\"translate(192.499789 159.957813)scale(0.1 -0.1)\">\n       <defs>\n        <path id=\"ArialMT-31\" d=\"M 2384 0 \nL 1822 0 \nL 1822 3584 \nQ 1619 3391 1289 3197 \nQ 959 3003 697 2906 \nL 697 3450 \nQ 1169 3672 1522 3987 \nQ 1875 4303 2022 4600 \nL 2384 4600 \nL 2384 0 \nz\n\" transform=\"scale(0.015625)\"/>\n       </defs>\n       <use xlink:href=\"#ArialMT-31\"/>\n       <use xlink:href=\"#ArialMT-30\" x=\"55.615234\"/>\n       <use xlink:href=\"#ArialMT-30\" x=\"111.230469\"/>\n       <use xlink:href=\"#ArialMT-30\" x=\"166.845703\"/>\n      </g>\n     </g>\n    </g>\n   </g>\n   <g id=\"matplotlib.axis_2\">\n    <g id=\"ytick_1\">\n     <g id=\"text_7\">\n      <!-- 0.0 -->\n      <g style=\"fill: #262626\" transform=\"translate(7.2 143.656888)scale(0.1 -0.1)\">\n       <defs>\n        <path id=\"ArialMT-2e\" d=\"M 581 0 \nL 581 641 \nL 1222 641 \nL 1222 0 \nL 581 0 \nz\n\" transform=\"scale(0.015625)\"/>\n       </defs>\n       <use xlink:href=\"#ArialMT-30\"/>\n       <use xlink:href=\"#ArialMT-2e\" x=\"55.615234\"/>\n       <use xlink:href=\"#ArialMT-30\" x=\"83.398438\"/>\n      </g>\n     </g>\n    </g>\n    <g id=\"ytick_2\">\n     <g id=\"text_8\">\n      <!-- 0.2 -->\n      <g style=\"fill: #262626\" transform=\"translate(7.2 118.341292)scale(0.1 -0.1)\">\n       <use xlink:href=\"#ArialMT-30\"/>\n       <use xlink:href=\"#ArialMT-2e\" x=\"55.615234\"/>\n       <use xlink:href=\"#ArialMT-32\" x=\"83.398438\"/>\n      </g>\n     </g>\n    </g>\n    <g id=\"ytick_3\">\n     <g id=\"text_9\">\n      <!-- 0.4 -->\n      <g style=\"fill: #262626\" transform=\"translate(7.2 93.025695)scale(0.1 -0.1)\">\n       <use xlink:href=\"#ArialMT-30\"/>\n       <use xlink:href=\"#ArialMT-2e\" x=\"55.615234\"/>\n       <use xlink:href=\"#ArialMT-34\" x=\"83.398438\"/>\n      </g>\n     </g>\n    </g>\n    <g id=\"ytick_4\">\n     <g id=\"text_10\">\n      <!-- 0.6 -->\n      <g style=\"fill: #262626\" transform=\"translate(7.2 67.710099)scale(0.1 -0.1)\">\n       <use xlink:href=\"#ArialMT-30\"/>\n       <use xlink:href=\"#ArialMT-2e\" x=\"55.615234\"/>\n       <use xlink:href=\"#ArialMT-36\" x=\"83.398438\"/>\n      </g>\n     </g>\n    </g>\n    <g id=\"ytick_5\">\n     <g id=\"text_11\">\n      <!-- 0.8 -->\n      <g style=\"fill: #262626\" transform=\"translate(7.2 42.394503)scale(0.1 -0.1)\">\n       <use xlink:href=\"#ArialMT-30\"/>\n       <use xlink:href=\"#ArialMT-2e\" x=\"55.615234\"/>\n       <use xlink:href=\"#ArialMT-38\" x=\"83.398438\"/>\n      </g>\n     </g>\n    </g>\n    <g id=\"ytick_6\">\n     <g id=\"text_12\">\n      <!-- 1.0 -->\n      <g style=\"fill: #262626\" transform=\"translate(7.2 17.078906)scale(0.1 -0.1)\">\n       <use xlink:href=\"#ArialMT-31\"/>\n       <use xlink:href=\"#ArialMT-2e\" x=\"55.615234\"/>\n       <use xlink:href=\"#ArialMT-30\" x=\"83.398438\"/>\n      </g>\n     </g>\n    </g>\n   </g>\n   <g id=\"line2d_1\">\n    <path d=\"M 36.977273 130.941338 \nL 37.537332 130.802305 \nL 37.627214 130.76099 \nL 37.561328 130.854742 \nL 37.646086 130.789078 \nL 37.748082 130.691807 \nL 37.768155 130.832759 \nL 37.868479 131.06298 \nL 37.877591 131.049858 \nL 37.975867 131.030035 \nL 37.990161 131.093519 \nL 38.021892 131.204377 \nL 38.103519 131.111251 \nL 38.115554 131.094415 \nL 38.13133 131.169407 \nL 38.20044 131.156608 \nL 38.258432 131.281803 \nL 38.313566 131.254852 \nL 38.414708 131.228768 \nL 38.426934 131.267449 \nL 38.427834 131.313007 \nL 38.520885 131.278969 \nL 39.129352 131.329503 \nL 39.133737 131.376058 \nL 39.242082 131.34154 \nL 39.471312 131.353683 \nL 39.714495 131.360771 \nL 39.71954 131.408257 \nL 39.839388 131.594892 \nL 39.839441 131.591445 \nL 39.878197 131.625706 \nL 39.889658 131.66697 \nL 39.903549 131.756604 \nL 39.996344 131.670781 \nL 40.272386 131.650186 \nL 40.290938 131.790138 \nL 40.386525 131.719574 \nL 40.416201 131.775082 \nL 40.528754 131.673069 \nL 40.530343 131.725404 \nL 40.617523 131.643249 \nL 40.637333 131.666154 \nL 40.858806 131.504497 \nL 40.859979 131.556018 \nL 40.958909 131.838817 \nL 40.979039 131.798899 \nL 41.012412 131.71789 \nL 41.045587 131.847295 \nL 41.089129 131.811922 \nL 41.089601 131.87093 \nL 41.197785 131.703866 \nL 41.324706 131.679129 \nL 41.33352 131.705895 \nL 41.388975 131.881318 \nL 41.366971 131.70199 \nL 41.440293 131.848032 \nL 41.698845 131.518554 \nL 41.726972 131.449327 \nL 41.756941 131.624748 \nL 41.764393 131.605067 \nL 41.767038 131.673852 \nL 41.870162 131.498975 \nL 42.055168 131.458254 \nL 42.056567 131.530666 \nL 42.16284 131.392032 \nL 42.894928 131.073105 \nL 43.062568 131.115953 \nL 43.850986 130.930915 \nL 44.978285 130.735107 \nL 44.979161 130.728472 \nL 44.982322 130.81179 \nL 45.024469 130.778743 \nL 45.493408 130.64015 \nL 45.589435 130.591608 \nL 45.589665 130.677705 \nL 45.900144 130.726325 \nL 46.023644 131.023081 \nL 46.029273 131.016257 \nL 46.455781 130.753271 \nL 46.544655 130.657293 \nL 46.558019 130.74273 \nL 46.648337 131.036697 \nL 46.669388 131.007579 \nL 46.894209 131.006907 \nL 46.901366 131.10378 \nL 47.005125 131.00656 \nL 47.034187 130.983824 \nL 47.040732 131.082055 \nL 47.042354 131.074527 \nL 47.070855 131.264246 \nL 47.161086 131.18968 \nL 47.250286 131.113841 \nL 47.53319 131.107888 \nL 47.545299 131.314037 \nL 47.622525 131.283205 \nL 48.152327 131.118742 \nL 48.171185 131.225571 \nL 48.347102 131.516034 \nL 48.511408 131.452963 \nL 48.630799 131.545948 \nL 48.703308 131.63945 \nL 49.300494 131.447665 \nL 49.893321 131.177967 \nL 49.914688 131.293 \nL 50.020336 131.258515 \nL 50.056405 131.215026 \nL 50.072434 131.331231 \nL 50.10804 131.296556 \nL 50.234005 131.673407 \nL 50.247221 131.630917 \nL 50.521484 131.43874 \nL 50.55882 131.402855 \nL 50.592142 131.612996 \nL 50.5996 131.604142 \nL 50.947588 131.396748 \nL 50.960613 131.51783 \nL 50.97327 131.770862 \nL 51.048552 131.648974 \nL 51.080614 131.629904 \nL 51.155572 131.986239 \nL 51.21476 131.921058 \nL 51.241996 131.864347 \nL 51.242072 132.00166 \nL 51.242375 131.99228 \nL 51.259978 132.397637 \nL 51.354084 132.195281 \nL 51.455414 132.041284 \nL 51.46819 132.166858 \nL 51.531275 132.558498 \nL 51.581875 132.473798 \nL 51.591655 132.464268 \nL 51.693811 132.679523 \nL 51.71951 132.622684 \nL 51.775411 132.593936 \nL 51.781801 132.747211 \nL 51.885785 132.651633 \nL 51.985153 132.523593 \nL 52.007166 132.671823 \nL 52.015254 132.830507 \nL 52.117519 132.722775 \nL 52.240689 132.570598 \nL 52.31013 132.880066 \nL 52.369615 132.809498 \nL 52.434162 132.727136 \nL 52.526727 133.02578 \nL 52.581581 132.954545 \nL 52.599282 132.933928 \nL 52.638497 133.280615 \nL 52.711246 133.210848 \nL 52.814148 133.149897 \nL 52.883957 133.475553 \nL 52.924531 133.445902 \nL 53.077588 133.355327 \nL 53.18602 133.681238 \nL 53.207393 133.651715 \nL 53.250101 133.631881 \nL 53.253373 133.817556 \nL 53.343239 133.719276 \nL 53.562888 133.607542 \nL 53.605076 133.799714 \nL 53.684288 133.759274 \nL 53.865121 133.697628 \nL 53.895575 133.89339 \nL 53.987351 133.801388 \nL 54.707821 133.392525 \nL 54.735936 133.603976 \nL 54.825885 133.557979 \nL 55.203671 133.354975 \nL 55.247644 133.574893 \nL 55.355063 133.55094 \nL 55.412797 133.502502 \nL 55.427886 133.725555 \nL 56.221101 133.310446 \nL 56.222161 133.548165 \nL 56.322266 133.509064 \nL 56.591343 133.361599 \nL 57.530918 133.075795 \nL 57.573786 133.330754 \nL 57.629277 133.301858 \nL 59.939261 133.03021 \nL 61.348257 132.82007 \nL 61.545348 133.078278 \nL 62.251059 132.91319 \nL 62.543889 132.896252 \nL 62.7584 133.14633 \nL 63.955026 132.799748 \nL 64.085471 132.72623 \nL 64.212573 132.651212 \nL 64.912911 132.436791 \nL 65.087004 132.355718 \nL 65.094176 132.671823 \nL 65.201296 132.592187 \nL 66.126779 131.982878 \nL 66.289998 131.839178 \nL 66.377174 131.790138 \nL 66.40147 132.143243 \nL 66.471227 132.095586 \nL 67.515743 131.391257 \nL 67.613562 131.30525 \nL 68.122583 131.036697 \nL 68.20866 130.848337 \nL 68.299132 130.685269 \nL 68.372183 131.457976 \nL 68.393646 131.36428 \nL 68.473699 131.137529 \nL 68.484961 131.576475 \nL 68.571874 131.480232 \nL 68.676374 131.24696 \nL 68.744562 130.927766 \nL 68.854915 130.701835 \nL 68.978358 132.236868 \nL 68.984698 132.131382 \nL 69.110612 131.758302 \nL 69.117773 132.316124 \nL 69.216841 131.931874 \nL 69.600806 130.885167 \nL 69.605671 131.544635 \nL 69.679364 130.982558 \nL 69.753369 130.759357 \nL 69.919672 130.084983 \nL 69.970452 129.814902 \nL 70.01225 129.456053 \nL 70.038128 130.272645 \nL 70.062325 130.061019 \nL 70.148865 129.529817 \nL 70.184923 131.177967 \nL 70.25967 130.89087 \nL 70.517738 129.22844 \nL 70.546406 128.909336 \nL 70.551096 130.052003 \nL 70.622729 129.305387 \nL 70.651711 130.550607 \nL 70.74866 130.12241 \nL 70.789661 130.009279 \nL 70.929571 133.502502 \nL 71.047215 133.045872 \nL 71.158753 132.844954 \nL 71.256773 132.166858 \nL 71.640122 130.87231 \nL 71.884931 130.701835 \nL 71.919477 130.524926 \nL 72.233392 130.341214 \nL 72.402232 132.632218 \nL 72.903703 132.483303 \nL 74.679123 132.166858 \nL 74.691702 131.998536 \nL 75.189431 131.822896 \nL 75.242945 131.63945 \nL 75.971925 131.447665 \nL 76.091988 131.036697 \nL 83.649325 130.816178 \nL 84.667979 130.584633 \nL 92.688051 130.084983 \nL 93.460736 133.235929 \nL 93.891722 133.045872 \nL 98.326237 132.632218 \nL 98.559148 132.406589 \nL 98.638744 131.91166 \nL 99.346355 131.348466 \nL 100.077962 130.341214 \nL 100.989159 129.951743 \nL 102.722 129.529817 \nL 105.436505 129.071201 \nL 107.338359 128.570892 \nL 108.357873 128.022936 \nL 108.607032 127.420183 \nL 109.054147 126.753984 \nL 112.119153 125.186454 \nL 113.930073 124.255734 \nL 117.031027 123.200917 \nL 117.68953 121.995413 \nL 118.744847 120.604446 \nL 127.311233 118.981651 \nL 127.791217 128.570892 \nL 128.778107 127.420183 \nL 129.462867 126.013761 \nL 129.536862 124.255734 \nL 130.326905 121.995413 \nL 130.377541 118.981651 \nL 132.745884 114.762385 \nL 132.877014 108.433486 \nL 134.112265 97.885321 \nL 147.357017 76.788991 \nL 214.522727 13.5 \nL 214.522727 13.5 \n\" clip-path=\"url(#p4f98ba3ad1)\" style=\"fill: none; stroke: #1f77b4; stroke-width: 1.5; stroke-linecap: round\"/>\n   </g>\n   <g id=\"line2d_2\">\n    <path d=\"M 36.977273 13.5 \nL 37.171087 13.5 \nL 37.285847 14.655963 \nL 37.324693 14.655963 \nL 37.451637 16.96789 \nL 37.473469 16.96789 \nL 37.583679 18.701835 \nL 37.627214 18.701835 \nL 37.741863 19.857798 \nL 37.748082 19.857798 \nL 37.904287 27.37156 \nL 37.932701 27.37156 \nL 38.0677 30.83945 \nL 38.115554 30.83945 \nL 38.235686 34.307339 \nL 38.256891 34.307339 \nL 38.362748 35.463303 \nL 38.414708 35.463303 \nL 38.520885 36.619266 \nL 38.640931 36.619266 \nL 38.794684 37.775229 \nL 38.815879 37.775229 \nL 38.932875 38.353211 \nL 39.108581 38.353211 \nL 39.226655 39.509174 \nL 39.42481 39.509174 \nL 39.580242 40.087156 \nL 39.655347 40.087156 \nL 39.917663 47.022936 \nL 40.018742 47.022936 \nL 40.135767 47.600917 \nL 40.158272 47.600917 \nL 40.272386 49.334862 \nL 40.389227 51.646789 \nL 40.396919 51.646789 \nL 40.505466 53.380734 \nL 40.528754 53.380734 \nL 40.643478 55.114679 \nL 40.686482 55.114679 \nL 40.806942 56.848624 \nL 40.858806 56.848624 \nL 40.97204 62.050459 \nL 41.012412 62.050459 \nL 41.122647 64.940367 \nL 41.240498 64.940367 \nL 41.355183 67.830275 \nL 41.366971 67.830275 \nL 41.553808 71.298165 \nL 41.566657 71.298165 \nL 41.673102 71.876147 \nL 41.726972 71.876147 \nL 41.837316 74.188073 \nL 41.958208 74.188073 \nL 42.07747 76.5 \nL 42.2044 76.5 \nL 42.314479 77.077982 \nL 42.487671 77.077982 \nL 42.592962 77.655963 \nL 42.825061 77.655963 \nL 42.894928 78.811927 \nL 43.062568 79.389908 \nL 44.070491 79.389908 \nL 44.143284 79.96789 \nL 44.979161 79.96789 \nL 45.024469 80.545872 \nL 45.247445 80.545872 \nL 45.355958 81.123853 \nL 45.589435 81.123853 \nL 45.667892 81.701835 \nL 45.701819 81.701835 \nL 45.811427 82.279817 \nL 45.881383 82.279817 \nL 46.023644 85.169725 \nL 46.158966 85.169725 \nL 46.270313 85.747706 \nL 46.544655 85.747706 \nL 46.70783 88.637615 \nL 46.801734 88.637615 \nL 46.936832 90.37156 \nL 47.034187 90.37156 \nL 47.161321 92.105505 \nL 47.322514 92.105505 \nL 47.44134 93.261468 \nL 47.53319 93.261468 \nL 47.657082 94.417431 \nL 47.939778 94.417431 \nL 48.04961 94.995413 \nL 48.152327 94.995413 \nL 48.310363 97.307339 \nL 48.511408 97.307339 \nL 48.630799 97.885321 \nL 48.668402 97.885321 \nL 48.794282 98.463303 \nL 49.893321 98.463303 \nL 50.022265 99.041284 \nL 50.056405 99.041284 \nL 50.247221 101.931193 \nL 50.55882 101.931193 \nL 50.666312 103.087156 \nL 50.684032 103.087156 \nL 50.794167 103.665138 \nL 50.862507 103.665138 \nL 50.97327 105.977064 \nL 51.080614 105.977064 \nL 51.22805 107.711009 \nL 51.241996 107.711009 \nL 51.35212 110.022936 \nL 51.455414 110.022936 \nL 51.581875 112.334862 \nL 51.591655 112.334862 \nL 51.71951 113.490826 \nL 51.775411 113.490826 \nL 51.885785 114.068807 \nL 51.985153 114.068807 \nL 52.125973 115.224771 \nL 52.240689 115.224771 \nL 52.377276 116.380734 \nL 52.434162 116.380734 \nL 52.653259 118.692661 \nL 52.814148 118.692661 \nL 52.924531 119.848624 \nL 53.077588 119.848624 \nL 53.207393 121.004587 \nL 53.250101 121.004587 \nL 53.343239 121.582569 \nL 53.562888 121.582569 \nL 53.684288 122.16055 \nL 53.865121 122.16055 \nL 54.00618 122.738532 \nL 54.707821 122.738532 \nL 54.845865 123.316514 \nL 55.203671 123.316514 \nL 55.356823 123.894495 \nL 55.412797 123.894495 \nL 55.520868 124.472477 \nL 56.221101 124.472477 \nL 56.322266 125.050459 \nL 57.530918 125.050459 \nL 57.629277 125.62844 \nL 61.348257 125.62844 \nL 61.545348 126.206422 \nL 62.543889 126.206422 \nL 62.7584 126.784404 \nL 65.087004 126.784404 \nL 65.201296 127.362385 \nL 66.377174 127.362385 \nL 66.471227 127.940367 \nL 68.299132 127.940367 \nL 68.418291 129.09633 \nL 68.473699 129.09633 \nL 68.571874 129.674312 \nL 68.854915 129.674312 \nL 68.991051 131.986239 \nL 69.110612 131.986239 \nL 69.216841 132.56422 \nL 69.600806 132.56422 \nL 69.679364 133.142202 \nL 70.01225 133.142202 \nL 70.169623 134.298165 \nL 70.177754 134.298165 \nL 70.279449 134.876147 \nL 70.546406 134.876147 \nL 70.651711 136.03211 \nL 70.789661 136.03211 \nL 70.929571 137.766055 \nL 72.233392 137.766055 \nL 72.402232 138.344037 \nL 92.688051 138.344037 \nL 93.460736 138.922018 \nL 127.311233 138.922018 \nL 127.791217 139.5 \nL 214.522727 139.5 \nL 214.522727 139.5 \n\" clip-path=\"url(#p4f98ba3ad1)\" style=\"fill: none; stroke-dasharray: 5.55,2.4; stroke-dashoffset: 0; stroke: #bf00bf; stroke-width: 1.5\"/>\n   </g>\n   <g id=\"patch_3\">\n    <path d=\"M 28.1 145.8 \nL 28.1 7.2 \n\" style=\"fill: none; stroke: #ffffff; stroke-width: 0.8; stroke-linejoin: miter; stroke-linecap: square\"/>\n   </g>\n   <g id=\"patch_4\">\n    <path d=\"M 223.4 145.8 \nL 223.4 7.2 \n\" style=\"fill: none; stroke: #ffffff; stroke-width: 0.8; stroke-linejoin: miter; stroke-linecap: square\"/>\n   </g>\n   <g id=\"patch_5\">\n    <path d=\"M 28.1 145.8 \nL 223.4 145.8 \n\" style=\"fill: none; stroke: #ffffff; stroke-width: 0.8; stroke-linejoin: miter; stroke-linecap: square\"/>\n   </g>\n   <g id=\"patch_6\">\n    <path d=\"M 28.1 7.2 \nL 223.4 7.2 \n\" style=\"fill: none; stroke: #ffffff; stroke-width: 0.8; stroke-linejoin: miter; stroke-linecap: square\"/>\n   </g>\n   <g id=\"legend_1\">\n    <g id=\"patch_7\">\n     <path d=\"M 87.241406 43.490625 \nL 164.258594 43.490625 \nQ 166.258594 43.490625 166.258594 41.490625 \nL 166.258594 14.2 \nQ 166.258594 12.2 164.258594 12.2 \nL 87.241406 12.2 \nQ 85.241406 12.2 85.241406 14.2 \nL 85.241406 41.490625 \nQ 85.241406 43.490625 87.241406 43.490625 \nz\n\" style=\"fill: #eaeaf2; opacity: 0.8; stroke: #cccccc; stroke-linejoin: miter\"/>\n    </g>\n    <g id=\"line2d_3\">\n     <path d=\"M 89.241406 19.857813 \nL 99.241406 19.857813 \nL 109.241406 19.857813 \n\" style=\"fill: none; stroke: #1f77b4; stroke-width: 1.5; stroke-linecap: round\"/>\n    </g>\n    <g id=\"text_13\">\n     <!-- precisions -->\n     <g style=\"fill: #262626\" transform=\"translate(117.241406 23.357813)scale(0.1 -0.1)\">\n      <defs>\n       <path id=\"ArialMT-70\" d=\"M 422 -1272 \nL 422 3319 \nL 934 3319 \nL 934 2888 \nQ 1116 3141 1344 3267 \nQ 1572 3394 1897 3394 \nQ 2322 3394 2647 3175 \nQ 2972 2956 3137 2557 \nQ 3303 2159 3303 1684 \nQ 3303 1175 3120 767 \nQ 2938 359 2589 142 \nQ 2241 -75 1856 -75 \nQ 1575 -75 1351 44 \nQ 1128 163 984 344 \nL 984 -1272 \nL 422 -1272 \nz\nM 931 1641 \nQ 931 1000 1190 694 \nQ 1450 388 1819 388 \nQ 2194 388 2461 705 \nQ 2728 1022 2728 1688 \nQ 2728 2322 2467 2637 \nQ 2206 2953 1844 2953 \nQ 1484 2953 1207 2617 \nQ 931 2281 931 1641 \nz\n\" transform=\"scale(0.015625)\"/>\n       <path id=\"ArialMT-72\" d=\"M 416 0 \nL 416 3319 \nL 922 3319 \nL 922 2816 \nQ 1116 3169 1280 3281 \nQ 1444 3394 1641 3394 \nQ 1925 3394 2219 3213 \nL 2025 2691 \nQ 1819 2813 1613 2813 \nQ 1428 2813 1281 2702 \nQ 1134 2591 1072 2394 \nQ 978 2094 978 1738 \nL 978 0 \nL 416 0 \nz\n\" transform=\"scale(0.015625)\"/>\n       <path id=\"ArialMT-65\" d=\"M 2694 1069 \nL 3275 997 \nQ 3138 488 2766 206 \nQ 2394 -75 1816 -75 \nQ 1088 -75 661 373 \nQ 234 822 234 1631 \nQ 234 2469 665 2931 \nQ 1097 3394 1784 3394 \nQ 2450 3394 2872 2941 \nQ 3294 2488 3294 1666 \nQ 3294 1616 3291 1516 \nL 816 1516 \nQ 847 969 1125 678 \nQ 1403 388 1819 388 \nQ 2128 388 2347 550 \nQ 2566 713 2694 1069 \nz\nM 847 1978 \nL 2700 1978 \nQ 2663 2397 2488 2606 \nQ 2219 2931 1791 2931 \nQ 1403 2931 1139 2672 \nQ 875 2413 847 1978 \nz\n\" transform=\"scale(0.015625)\"/>\n       <path id=\"ArialMT-63\" d=\"M 2588 1216 \nL 3141 1144 \nQ 3050 572 2676 248 \nQ 2303 -75 1759 -75 \nQ 1078 -75 664 370 \nQ 250 816 250 1647 \nQ 250 2184 428 2587 \nQ 606 2991 970 3192 \nQ 1334 3394 1763 3394 \nQ 2303 3394 2647 3120 \nQ 2991 2847 3088 2344 \nL 2541 2259 \nQ 2463 2594 2264 2762 \nQ 2066 2931 1784 2931 \nQ 1359 2931 1093 2626 \nQ 828 2322 828 1663 \nQ 828 994 1084 691 \nQ 1341 388 1753 388 \nQ 2084 388 2306 591 \nQ 2528 794 2588 1216 \nz\n\" transform=\"scale(0.015625)\"/>\n       <path id=\"ArialMT-69\" d=\"M 425 3934 \nL 425 4581 \nL 988 4581 \nL 988 3934 \nL 425 3934 \nz\nM 425 0 \nL 425 3319 \nL 988 3319 \nL 988 0 \nL 425 0 \nz\n\" transform=\"scale(0.015625)\"/>\n       <path id=\"ArialMT-73\" d=\"M 197 991 \nL 753 1078 \nQ 800 744 1014 566 \nQ 1228 388 1613 388 \nQ 2000 388 2187 545 \nQ 2375 703 2375 916 \nQ 2375 1106 2209 1216 \nQ 2094 1291 1634 1406 \nQ 1016 1563 777 1677 \nQ 538 1791 414 1992 \nQ 291 2194 291 2438 \nQ 291 2659 392 2848 \nQ 494 3038 669 3163 \nQ 800 3259 1026 3326 \nQ 1253 3394 1513 3394 \nQ 1903 3394 2198 3281 \nQ 2494 3169 2634 2976 \nQ 2775 2784 2828 2463 \nL 2278 2388 \nQ 2241 2644 2061 2787 \nQ 1881 2931 1553 2931 \nQ 1166 2931 1000 2803 \nQ 834 2675 834 2503 \nQ 834 2394 903 2306 \nQ 972 2216 1119 2156 \nQ 1203 2125 1616 2013 \nQ 2213 1853 2448 1751 \nQ 2684 1650 2818 1456 \nQ 2953 1263 2953 975 \nQ 2953 694 2789 445 \nQ 2625 197 2315 61 \nQ 2006 -75 1616 -75 \nQ 969 -75 630 194 \nQ 291 463 197 991 \nz\n\" transform=\"scale(0.015625)\"/>\n       <path id=\"ArialMT-6f\" d=\"M 213 1659 \nQ 213 2581 725 3025 \nQ 1153 3394 1769 3394 \nQ 2453 3394 2887 2945 \nQ 3322 2497 3322 1706 \nQ 3322 1066 3130 698 \nQ 2938 331 2570 128 \nQ 2203 -75 1769 -75 \nQ 1072 -75 642 372 \nQ 213 819 213 1659 \nz\nM 791 1659 \nQ 791 1022 1069 705 \nQ 1347 388 1769 388 \nQ 2188 388 2466 706 \nQ 2744 1025 2744 1678 \nQ 2744 2294 2464 2611 \nQ 2184 2928 1769 2928 \nQ 1347 2928 1069 2612 \nQ 791 2297 791 1659 \nz\n\" transform=\"scale(0.015625)\"/>\n       <path id=\"ArialMT-6e\" d=\"M 422 0 \nL 422 3319 \nL 928 3319 \nL 928 2847 \nQ 1294 3394 1984 3394 \nQ 2284 3394 2536 3286 \nQ 2788 3178 2913 3003 \nQ 3038 2828 3088 2588 \nQ 3119 2431 3119 2041 \nL 3119 0 \nL 2556 0 \nL 2556 2019 \nQ 2556 2363 2490 2533 \nQ 2425 2703 2258 2804 \nQ 2091 2906 1866 2906 \nQ 1506 2906 1245 2678 \nQ 984 2450 984 1813 \nL 984 0 \nL 422 0 \nz\n\" transform=\"scale(0.015625)\"/>\n      </defs>\n      <use xlink:href=\"#ArialMT-70\"/>\n      <use xlink:href=\"#ArialMT-72\" x=\"55.615234\"/>\n      <use xlink:href=\"#ArialMT-65\" x=\"88.916016\"/>\n      <use xlink:href=\"#ArialMT-63\" x=\"144.53125\"/>\n      <use xlink:href=\"#ArialMT-69\" x=\"194.53125\"/>\n      <use xlink:href=\"#ArialMT-73\" x=\"216.748047\"/>\n      <use xlink:href=\"#ArialMT-69\" x=\"266.748047\"/>\n      <use xlink:href=\"#ArialMT-6f\" x=\"288.964844\"/>\n      <use xlink:href=\"#ArialMT-6e\" x=\"344.580078\"/>\n      <use xlink:href=\"#ArialMT-73\" x=\"400.195312\"/>\n     </g>\n    </g>\n    <g id=\"line2d_4\">\n     <path d=\"M 89.241406 34.003125 \nL 99.241406 34.003125 \nL 109.241406 34.003125 \n\" style=\"fill: none; stroke-dasharray: 5.55,2.4; stroke-dashoffset: 0; stroke: #bf00bf; stroke-width: 1.5\"/>\n    </g>\n    <g id=\"text_14\">\n     <!-- recalls -->\n     <g style=\"fill: #262626\" transform=\"translate(117.241406 37.503125)scale(0.1 -0.1)\">\n      <defs>\n       <path id=\"ArialMT-61\" d=\"M 2588 409 \nQ 2275 144 1986 34 \nQ 1697 -75 1366 -75 \nQ 819 -75 525 192 \nQ 231 459 231 875 \nQ 231 1119 342 1320 \nQ 453 1522 633 1644 \nQ 813 1766 1038 1828 \nQ 1203 1872 1538 1913 \nQ 2219 1994 2541 2106 \nQ 2544 2222 2544 2253 \nQ 2544 2597 2384 2738 \nQ 2169 2928 1744 2928 \nQ 1347 2928 1158 2789 \nQ 969 2650 878 2297 \nL 328 2372 \nQ 403 2725 575 2942 \nQ 747 3159 1072 3276 \nQ 1397 3394 1825 3394 \nQ 2250 3394 2515 3294 \nQ 2781 3194 2906 3042 \nQ 3031 2891 3081 2659 \nQ 3109 2516 3109 2141 \nL 3109 1391 \nQ 3109 606 3145 398 \nQ 3181 191 3288 0 \nL 2700 0 \nQ 2613 175 2588 409 \nz\nM 2541 1666 \nQ 2234 1541 1622 1453 \nQ 1275 1403 1131 1340 \nQ 988 1278 909 1158 \nQ 831 1038 831 891 \nQ 831 666 1001 516 \nQ 1172 366 1500 366 \nQ 1825 366 2078 508 \nQ 2331 650 2450 897 \nQ 2541 1088 2541 1459 \nL 2541 1666 \nz\n\" transform=\"scale(0.015625)\"/>\n       <path id=\"ArialMT-6c\" d=\"M 409 0 \nL 409 4581 \nL 972 4581 \nL 972 0 \nL 409 0 \nz\n\" transform=\"scale(0.015625)\"/>\n      </defs>\n      <use xlink:href=\"#ArialMT-72\"/>\n      <use xlink:href=\"#ArialMT-65\" x=\"33.300781\"/>\n      <use xlink:href=\"#ArialMT-63\" x=\"88.916016\"/>\n      <use xlink:href=\"#ArialMT-61\" x=\"138.916016\"/>\n      <use xlink:href=\"#ArialMT-6c\" x=\"194.53125\"/>\n      <use xlink:href=\"#ArialMT-6c\" x=\"216.748047\"/>\n      <use xlink:href=\"#ArialMT-73\" x=\"238.964844\"/>\n     </g>\n    </g>\n   </g>\n  </g>\n </g>\n <defs>\n  <clipPath id=\"p4f98ba3ad1\">\n   <rect x=\"28.1\" y=\"7.2\" width=\"195.3\" height=\"138.6\"/>\n  </clipPath>\n </defs>\n</svg>\n"
     },
     "metadata": {},
     "output_type": "display_data"
    }
   ],
   "source": [
    "from sklearn.metrics import roc_curve\n",
    "\n",
    "fpr, tpr, thresholds = roc_curve(test_label, scores_sum)"
   ],
   "metadata": {
    "collapsed": false,
    "ExecuteTime": {
     "end_time": "2023-07-07T02:20:29.625162Z",
     "start_time": "2023-07-07T02:20:29.101354500Z"
    }
   }
  },
  {
   "cell_type": "code",
   "execution_count": null,
   "outputs": [],
   "source": [
    "d2l.plot(fpr, tpr)"
   ],
   "metadata": {
    "collapsed": false
   }
  }
 ],
 "metadata": {
  "kernelspec": {
   "name": "python3",
   "language": "python",
   "display_name": "Python 3 (ipykernel)"
  },
  "language_info": {
   "codemirror_mode": {
    "name": "ipython",
    "version": 2
   },
   "file_extension": ".py",
   "mimetype": "text/x-python",
   "name": "python",
   "nbconvert_exporter": "python",
   "pygments_lexer": "ipython2",
   "version": "2.7.6"
  },
  "colab": {
   "provenance": [],
   "gpuType": "T4"
  },
  "accelerator": "GPU"
 },
 "nbformat": 4,
 "nbformat_minor": 0
}
