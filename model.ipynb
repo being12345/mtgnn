{
 "cells": [
  {
   "cell_type": "code",
   "execution_count": 30,
   "outputs": [
    {
     "name": "stdout",
     "output_type": "stream",
     "text": [
      "Collecting torchmetrics\n",
      "  Downloading torchmetrics-1.0.1-py3-none-any.whl (729 kB)\n",
      "                                              0.0/729.2 kB ? eta -:--:--\n",
      "     -                                     30.7/729.2 kB 435.7 kB/s eta 0:00:02\n",
      "     ----                                  92.2/729.2 kB 871.5 kB/s eta 0:00:01\n",
      "     ------------                           245.8/729.2 kB 1.7 MB/s eta 0:00:01\n",
      "     -------------------                    368.6/729.2 kB 1.9 MB/s eta 0:00:01\n",
      "     ------------------------------         583.7/729.2 kB 2.4 MB/s eta 0:00:01\n",
      "     -------------------------------------- 729.2/729.2 kB 2.7 MB/s eta 0:00:00\n",
      "Requirement already satisfied: numpy>1.20.0 in d:\\conda\\envs\\kaggle\\lib\\site-packages (from torchmetrics) (1.21.5)\n",
      "Requirement already satisfied: torch>=1.8.1 in d:\\conda\\envs\\kaggle\\lib\\site-packages (from torchmetrics) (2.0.1)\n",
      "Requirement already satisfied: packaging in d:\\conda\\envs\\kaggle\\lib\\site-packages (from torchmetrics) (23.0)\n",
      "Collecting lightning-utilities>=0.7.0 (from torchmetrics)\n",
      "  Downloading lightning_utilities-0.9.0-py3-none-any.whl (23 kB)\n",
      "Requirement already satisfied: typing-extensions in d:\\conda\\envs\\kaggle\\lib\\site-packages (from torchmetrics) (4.6.3)\n",
      "Requirement already satisfied: filelock in d:\\conda\\envs\\kaggle\\lib\\site-packages (from torch>=1.8.1->torchmetrics) (3.12.2)\n",
      "Requirement already satisfied: sympy in d:\\conda\\envs\\kaggle\\lib\\site-packages (from torch>=1.8.1->torchmetrics) (1.12)\n",
      "Requirement already satisfied: networkx in d:\\conda\\envs\\kaggle\\lib\\site-packages (from torch>=1.8.1->torchmetrics) (3.1)\n",
      "Requirement already satisfied: jinja2 in d:\\conda\\envs\\kaggle\\lib\\site-packages (from torch>=1.8.1->torchmetrics) (3.1.2)\n",
      "Requirement already satisfied: MarkupSafe>=2.0 in d:\\conda\\envs\\kaggle\\lib\\site-packages (from jinja2->torch>=1.8.1->torchmetrics) (2.1.1)\n",
      "Requirement already satisfied: mpmath>=0.19 in d:\\conda\\envs\\kaggle\\lib\\site-packages (from sympy->torch>=1.8.1->torchmetrics) (1.3.0)\n",
      "Installing collected packages: lightning-utilities, torchmetrics\n",
      "Successfully installed lightning-utilities-0.9.0 torchmetrics-1.0.1\n"
     ]
    }
   ],
   "source": [
    "!pip install torchmetrics"
   ],
   "metadata": {
    "collapsed": false,
    "ExecuteTime": {
     "end_time": "2023-07-14T04:54:11.858202500Z",
     "start_time": "2023-07-14T04:54:03.397603Z"
    }
   }
  },
  {
   "cell_type": "code",
   "execution_count": 26,
   "metadata": {
    "collapsed": true,
    "ExecuteTime": {
     "end_time": "2023-07-14T11:53:55.350283400Z",
     "start_time": "2023-07-14T11:53:54.733730800Z"
    }
   },
   "outputs": [
    {
     "name": "stdout",
     "output_type": "stream",
     "text": [
      "The autoreload extension is already loaded. To reload it, use:\n",
      "  %reload_ext autoreload\n"
     ]
    }
   ],
   "source": [
    "# python\n",
    "import os\n",
    "import math\n",
    "import csv\n",
    "\n",
    "# random\n",
    "import random\n",
    "#data analysis libraries\n",
    "import numpy as np\n",
    "import pandas as pd\n",
    "\n",
    "# machine learning\n",
    "import sklearn\n",
    "\n",
    "# deep learning\n",
    "import torch\n",
    "import torch.nn as nn\n",
    "from torch.utils.data import Dataset, DataLoader, random_split\n",
    "\n",
    "# For plotting learning curve\n",
    "from torch.utils.tensorboard import SummaryWriter\n",
    "\n",
    "# graph deep learning\n",
    "import torch_geometric\n",
    "import torch_geometric_temporal\n",
    "import networkx as nx\n",
    "\n",
    "#visualization libraries\n",
    "import matplotlib.pyplot as plt\n",
    "import seaborn as sns\n",
    "import torch\n",
    "import torch_geometric\n",
    "%matplotlib inline\n",
    "\n",
    "# For Progress Bar\n",
    "from tqdm.auto import tqdm\n",
    "\n",
    "#ignore warnings\n",
    "import warnings\n",
    "\n",
    "warnings.filterwarnings('ignore')\n",
    "\n",
    "# auto load change\n",
    "%load_ext autoreload\n",
    "%autoreload 2"
   ]
  },
  {
   "cell_type": "markdown",
   "source": [
    "## get data\n",
    "+ for x, y in loader shape: (batch_size, in_dim, num_nodes, seq_len)"
   ],
   "metadata": {
    "collapsed": false
   }
  },
  {
   "cell_type": "code",
   "execution_count": 4,
   "outputs": [],
   "source": [
    "from Data.generate_data import generate_data, get_data, get_and_normalize_data\n",
    "\n",
    "train_loader, valid_loader, test_loader, edge_index = generate_data(168, 50, 8)"
   ],
   "metadata": {
    "collapsed": false,
    "ExecuteTime": {
     "end_time": "2023-07-14T11:39:35.293054500Z",
     "start_time": "2023-07-14T11:39:32.802033300Z"
    }
   }
  },
  {
   "cell_type": "markdown",
   "source": [
    "## train config"
   ],
   "metadata": {
    "collapsed": false
   }
  },
  {
   "cell_type": "code",
   "execution_count": 14,
   "outputs": [],
   "source": [
    "from datetime import datetime\n",
    "\n",
    "train_config = {\n",
    "    'device': 'cuda' if torch.cuda.is_available() else 'cpu',\n",
    "    'n_epochs': 30,  # Number of epochs.\n",
    "    'learning_rate': 1e-3,\n",
    "    'early_stop': 400,  # If model has not improved for this many consecutive epochs, stop training.\n",
    "    'save_path': f'./models/model_{datetime.now()}.ckpt',  # Your model will be saved here.\n",
    "}"
   ],
   "metadata": {
    "collapsed": false,
    "ExecuteTime": {
     "end_time": "2023-07-14T11:44:10.875279600Z",
     "start_time": "2023-07-14T11:44:10.350024300Z"
    }
   }
  },
  {
   "cell_type": "markdown",
   "source": [
    "## mtgnn without edge"
   ],
   "metadata": {
    "collapsed": false
   }
  },
  {
   "cell_type": "code",
   "execution_count": 39,
   "outputs": [],
   "source": [
    "model_args = {'gcn_true': True, 'buildA_true': True, 'gcn_depth': 2, 'num_nodes': 50, 'dropout': 0.3,\n",
    "              'subgraph_size': 20, 'node_dim': 40, 'dilation_exponential': 2, 'conv_channels': 16,\n",
    "              'residual_channels': 16, 'skip_channels': 32, 'end_channels': 64, 'seq_in_len': 168, 'in_dim': 7,\n",
    "              'seq_out_len': 1,\n",
    "              'layers': 5, 'propalpha': 0.05, 'tanhalpha': 3, 'layer_norm_affline': True, 'kernel_size': 7,\n",
    "              'kernel_set': [2, 3, 6, 7]}"
   ],
   "metadata": {
    "collapsed": false,
    "ExecuteTime": {
     "end_time": "2023-07-14T12:05:30.361889400Z",
     "start_time": "2023-07-14T12:05:29.670926900Z"
    }
   }
  },
  {
   "cell_type": "code",
   "execution_count": 40,
   "outputs": [],
   "source": [
    "from torch_geometric_temporal import MTGNN\n",
    "\n",
    "net = MTGNN(model_args['gcn_true'], model_args['buildA_true'], model_args['gcn_depth'], model_args['num_nodes'], kernel_set=model_args['kernel_set'],\n",
    "              kernel_size=model_args['kernel_size'],\n",
    "              dropout=model_args['dropout'], subgraph_size=model_args['subgraph_size'],\n",
    "              node_dim=model_args['node_dim'], dilation_exponential=model_args['dilation_exponential'],\n",
    "              conv_channels=model_args['conv_channels'], residual_channels=model_args['residual_channels'],\n",
    "              skip_channels=model_args['skip_channels'], end_channels=model_args['end_channels'],\n",
    "              seq_length=model_args['seq_in_len'], in_dim=model_args['in_dim'], out_dim=model_args['seq_out_len'],\n",
    "              layers=model_args['layers'], propalpha=model_args['propalpha'], tanhalpha=model_args['tanhalpha'], layer_norm_affline=False)\n",
    "device = 'cuda' if torch.cuda.is_available() else 'cpu'\n",
    "model = net.to(device)"
   ],
   "metadata": {
    "collapsed": false,
    "ExecuteTime": {
     "end_time": "2023-07-14T12:05:32.403090700Z",
     "start_time": "2023-07-14T12:05:31.681013500Z"
    }
   }
  },
  {
   "cell_type": "code",
   "execution_count": 47,
   "outputs": [],
   "source": [
    "loss = nn.MSELoss(reduction='mean').to(train_config['device'])"
   ],
   "metadata": {
    "collapsed": false,
    "ExecuteTime": {
     "end_time": "2023-07-14T12:06:07.294406400Z",
     "start_time": "2023-07-14T12:06:06.575427500Z"
    }
   }
  },
  {
   "cell_type": "code",
   "execution_count": 42,
   "outputs": [],
   "source": [
    "from model.criterions import MapeCriterion, MaeCriterion, RrseCriterion\n",
    "\n",
    "train_criterion_set = [MapeCriterion(), MaeCriterion(), RrseCriterion()]\n",
    "\n",
    "valid_criterion_set = [MapeCriterion(), MaeCriterion(), RrseCriterion()]"
   ],
   "metadata": {
    "collapsed": false,
    "ExecuteTime": {
     "end_time": "2023-07-14T12:05:33.794876Z",
     "start_time": "2023-07-14T12:05:33.329584600Z"
    }
   }
  },
  {
   "cell_type": "code",
   "execution_count": 43,
   "outputs": [],
   "source": [
    "optim = torch.optim.Adam(model.parameters())"
   ],
   "metadata": {
    "collapsed": false,
    "ExecuteTime": {
     "end_time": "2023-07-14T12:05:34.431885600Z",
     "start_time": "2023-07-14T12:05:33.782878200Z"
    }
   }
  },
  {
   "cell_type": "code",
   "execution_count": 44,
   "outputs": [],
   "source": [
    "from model.log import Log\n",
    "\n",
    "log = Log(train_config)"
   ],
   "metadata": {
    "collapsed": false,
    "ExecuteTime": {
     "end_time": "2023-07-14T12:05:35.020889800Z",
     "start_time": "2023-07-14T12:05:34.435891Z"
    }
   }
  },
  {
   "cell_type": "markdown",
   "source": [
    "## train model"
   ],
   "metadata": {
    "collapsed": false
   }
  },
  {
   "cell_type": "code",
   "execution_count": 45,
   "outputs": [],
   "source": [
    "from model.modle import Model\n",
    "model = Model(net, loss, train_criterion_set, valid_criterion_set, optim, log, train_config)"
   ],
   "metadata": {
    "collapsed": false,
    "ExecuteTime": {
     "end_time": "2023-07-14T12:05:35.682795100Z",
     "start_time": "2023-07-14T12:05:35.242609300Z"
    }
   }
  },
  {
   "cell_type": "code",
   "execution_count": 46,
   "outputs": [
    {
     "data": {
      "text/plain": "  0%|          | 0/315 [00:00<?, ?it/s]",
      "application/vnd.jupyter.widget-view+json": {
       "version_major": 2,
       "version_minor": 0,
       "model_id": "71237898f10c42c48364a870fa3cd575"
      }
     },
     "metadata": {},
     "output_type": "display_data"
    },
    {
     "name": "stdout",
     "output_type": "stream",
     "text": [
      "Unexpected exception formatting exception. Falling back to standard exception\n"
     ]
    },
    {
     "name": "stderr",
     "output_type": "stream",
     "text": [
      "Traceback (most recent call last):\n",
      "  File \"D:\\conda\\envs\\kaggle\\lib\\site-packages\\IPython\\core\\interactiveshell.py\", line 3505, in run_code\n",
      "    exec(code_obj, self.user_global_ns, self.user_ns)\n",
      "  File \"C:\\Users\\lizhuofeng\\AppData\\Local\\Temp\\ipykernel_17868\\2202349084.py\", line 1, in <module>\n",
      "    model.trainer(train_loader, valid_loader)\n",
      "  File \"C:\\Users\\lizhuofeng\\Desktop\\2023.7.9_service_code\\TopoMAD\\model\\modle.py\", line 31, in trainer\n",
      "    train_loss, pred = self.train_optim(x, y)\n",
      "  File \"C:\\Users\\lizhuofeng\\Desktop\\2023.7.9_service_code\\TopoMAD\\model\\modle.py\", line 100, in train_optim\n",
      "    train_loss.backward()\n",
      "  File \"D:\\conda\\envs\\kaggle\\lib\\site-packages\\torch\\_tensor.py\", line 487, in backward\n",
      "    torch.autograd.backward(\n",
      "  File \"D:\\conda\\envs\\kaggle\\lib\\site-packages\\torch\\autograd\\__init__.py\", line 200, in backward\n",
      "    Variable._execution_engine.run_backward(  # Calls into the C++ engine to run the backward pass\n",
      "KeyboardInterrupt\n",
      "\n",
      "During handling of the above exception, another exception occurred:\n",
      "\n",
      "Traceback (most recent call last):\n",
      "  File \"D:\\conda\\envs\\kaggle\\lib\\site-packages\\IPython\\core\\interactiveshell.py\", line 2102, in showtraceback\n",
      "    stb = self.InteractiveTB.structured_traceback(\n",
      "  File \"D:\\conda\\envs\\kaggle\\lib\\site-packages\\IPython\\core\\ultratb.py\", line 1310, in structured_traceback\n",
      "    return FormattedTB.structured_traceback(\n",
      "  File \"D:\\conda\\envs\\kaggle\\lib\\site-packages\\IPython\\core\\ultratb.py\", line 1199, in structured_traceback\n",
      "    return VerboseTB.structured_traceback(\n",
      "  File \"D:\\conda\\envs\\kaggle\\lib\\site-packages\\IPython\\core\\ultratb.py\", line 1052, in structured_traceback\n",
      "    formatted_exception = self.format_exception_as_a_whole(etype, evalue, etb, number_of_lines_of_context,\n",
      "  File \"D:\\conda\\envs\\kaggle\\lib\\site-packages\\IPython\\core\\ultratb.py\", line 978, in format_exception_as_a_whole\n",
      "    frames.append(self.format_record(record))\n",
      "  File \"D:\\conda\\envs\\kaggle\\lib\\site-packages\\IPython\\core\\ultratb.py\", line 878, in format_record\n",
      "    frame_info.lines, Colors, self.has_colors, lvals\n",
      "  File \"D:\\conda\\envs\\kaggle\\lib\\site-packages\\IPython\\core\\ultratb.py\", line 712, in lines\n",
      "    return self._sd.lines\n",
      "  File \"D:\\conda\\envs\\kaggle\\lib\\site-packages\\stack_data\\utils.py\", line 145, in cached_property_wrapper\n",
      "    value = obj.__dict__[self.func.__name__] = self.func(obj)\n",
      "  File \"D:\\conda\\envs\\kaggle\\lib\\site-packages\\stack_data\\core.py\", line 698, in lines\n",
      "    pieces = self.included_pieces\n",
      "  File \"D:\\conda\\envs\\kaggle\\lib\\site-packages\\stack_data\\utils.py\", line 145, in cached_property_wrapper\n",
      "    value = obj.__dict__[self.func.__name__] = self.func(obj)\n",
      "  File \"D:\\conda\\envs\\kaggle\\lib\\site-packages\\stack_data\\core.py\", line 649, in included_pieces\n",
      "    pos = scope_pieces.index(self.executing_piece)\n",
      "  File \"D:\\conda\\envs\\kaggle\\lib\\site-packages\\stack_data\\utils.py\", line 145, in cached_property_wrapper\n",
      "    value = obj.__dict__[self.func.__name__] = self.func(obj)\n",
      "  File \"D:\\conda\\envs\\kaggle\\lib\\site-packages\\stack_data\\core.py\", line 628, in executing_piece\n",
      "    return only(\n",
      "  File \"D:\\conda\\envs\\kaggle\\lib\\site-packages\\executing\\executing.py\", line 164, in only\n",
      "    raise NotOneValueFound('Expected one value, found 0')\n",
      "executing.executing.NotOneValueFound: Expected one value, found 0\n"
     ]
    }
   ],
   "source": [
    "model.trainer(train_loader, valid_loader)"
   ],
   "metadata": {
    "collapsed": false,
    "ExecuteTime": {
     "end_time": "2023-07-14T12:05:43.951016Z",
     "start_time": "2023-07-14T12:05:35.686795600Z"
    }
   }
  }
 ],
 "metadata": {
  "kernelspec": {
   "display_name": "Python 3",
   "language": "python",
   "name": "python3"
  },
  "language_info": {
   "codemirror_mode": {
    "name": "ipython",
    "version": 2
   },
   "file_extension": ".py",
   "mimetype": "text/x-python",
   "name": "python",
   "nbconvert_exporter": "python",
   "pygments_lexer": "ipython2",
   "version": "2.7.6"
  }
 },
 "nbformat": 4,
 "nbformat_minor": 0
}
